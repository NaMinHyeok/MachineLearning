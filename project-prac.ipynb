{
 "cells": [
  {
   "cell_type": "markdown",
   "metadata": {},
   "source": [
    "#프로젝트 소스코드\n",
    "\n",
    "사용되는 package에 대한 선언"
   ]
  },
  {
   "cell_type": "code",
   "execution_count": 7,
   "metadata": {},
   "outputs": [],
   "source": [
    "import matplotlib.pyplot as plt\n",
    "import glob\n",
    "import cv2\n",
    "import numpy as np\n",
    "import pandas as pd\n",
    "import tensorflow as tf\n",
    "from sklearn.model_selection import train_test_split\n"
   ]
  },
  {
   "cell_type": "markdown",
   "metadata": {},
   "source": [
    "##DATA 전처리\n",
    "\n",
    "데이터의 전처리 과정\n",
    "1. 라벨별 폴더가 있는 path와 label의 수, 변환할 이미지 크기를 인자로 받으며 각 폴더별로 이미지를 읽는다.\n",
    "2. 이미지는 openCV를 사용해서 읽는다. 그리고 openCV는 이미지를 BGR채널로 읽고 matplotlib은 RGB 채널로 이미지를 표시하기 때문에, matplotlib을 사용하기 위해서 BGR채널을 RGB로 변환해주는 작업을 해줍니다.\n",
    "3. 이미지의 크기를 일정한 크기로 변환해줍니다. 보통 사이즈를 줄일 때에는 보간법(interpolation으로 cv2.INTER_AREA를 많이 사용하고, 사이즈를 키울 때에는 cv2.INTER_CUBIC을 많이 사용합니다.\n",
    "4. 폴더별로 이미지를 읽고 있기 때문에 같은 폴더 내에는 동일한 라벨로 설정해줍니다.(각 라벨별 확률로 output y를 설정합니다.)\n",
    "5. x_train, y_train을 numpy array로 변환해서 반환합니다."
   ]
  },
  {
   "cell_type": "code",
   "execution_count": 8,
   "metadata": {},
   "outputs": [],
   "source": [
    "N_CLASSES = 43\n",
    "RESIZED_IMAGE = (32, 32, 3)\n",
    "\n",
    "def read_trainset_ppm(path, n_labels, resize_to):\n",
    "    images = []\n",
    "    labels = []\n",
    "    \n",
    "    for i in range(n_labels):\n",
    "        label_path = path + '/' + format(i, '05d') + '/'\n",
    "        \n",
    "        for img_file in glob.glob(label_path + '*.ppm'):\n",
    "            img = cv2.imread(img_file)\n",
    "            img = cv2.cvtColor(img, cv2.COLOR_BGR2RGB)\n",
    "            \n",
    "            if resize_to:\n",
    "                if resize_to[0] < img.shape[0]:\n",
    "                    img = cv2.resize(img, (resize_to[0], resize_to[1]), interpolation=cv2.INTER_AREA)\n",
    "                else:\n",
    "                    img = cv2.resize(img, (resize_to[0], resize_to[1]), interpolation=cv2.INTER_CUBIC)\n",
    "            \n",
    "            label = np.zeros((n_labels, ), np.float32)\n",
    "            label[i] = 1.0\n",
    "            \n",
    "            images.append(img.astype(np.float32))\n",
    "            labels.append(label)\n",
    "    \n",
    "    x_train = np.array(images, np.float32)\n",
    "    y_train = np.array(labels, np.float32)\n",
    "    \n",
    "    return x_train, y_train\n",
    "\n",
    "def read_testset_ppm(path, resize_to):\n",
    "    images = []\n",
    "    labels = []\n",
    "    \n",
    "    for img_file in glob.glob(path + '*.ppm'):\n",
    "        img = cv2.imread(img_file)\n",
    "        img = cv2.cvtColor(img, cv2.COLOR_BGR2RGB)\n",
    "        \n",
    "        if resize_to:\n",
    "            if resize_to[0] < img.shape[0]:\n",
    "                img = cv2.resize(img, (resize_to[0], resize_to[1]), interpolation=cv2.INTER_AREA)\n",
    "            else:\n",
    "                img = cv2.resize(img, (resize_to[0], resize_to[1]), interpolation=cv2.INTER_CUBIC)\n",
    "                \n",
    "        images.append(img.astype(np.float32))\n",
    "    \n",
    "    labels_path = path + '/GT-final_test.csv'\n",
    "    annotations = pd.read_csv(labels_path, sep=';')\n",
    "    \n",
    "    x_testset = np.array(images, np.float32)\n",
    "    y_testset = tf.one_hot(annotations['ClassId'], depth=N_CLASSES).numpy()\n",
    "    \n",
    "    return x_testset, y_testset"
   ]
  },
  {
   "cell_type": "markdown",
   "metadata": {},
   "source": [
    "training data를 훈련 세트와 검증 세트로 분리한다. 전체 샘플중 20%를 검증 세트로 사용한다."
   ]
  },
  {
   "cell_type": "code",
   "execution_count": 9,
   "metadata": {},
   "outputs": [],
   "source": [
    "x_train_orig, y_train_orig = read_trainset_ppm('Images/',N_CLASSES,RESIZED_IMAGE)"
   ]
  },
  {
   "cell_type": "code",
   "execution_count": 10,
   "metadata": {},
   "outputs": [
    {
     "name": "stdout",
     "output_type": "stream",
     "text": [
      "(31367, 32, 32, 3)\n",
      "(31367, 43)\n",
      "(7842, 32, 32, 3)\n",
      "(7842, 43)\n"
     ]
    }
   ],
   "source": [
    "# set train and val set\n",
    "from sklearn.model_selection import train_test_split\n",
    "idx_train, idx_val = train_test_split(range(x_train_orig.shape[0]), test_size=0.2, random_state=101)\n",
    "X_train = x_train_orig[idx_train,:,:,:]\n",
    "y_train = y_train_orig[idx_train,]\n",
    "X_val = x_train_orig[idx_val,:,:,:]\n",
    "y_val = y_train_orig[idx_val,]\n",
    "\n",
    "print(X_train.shape)\n",
    "print(y_train.shape)\n",
    "print(X_val.shape)\n",
    "print(y_val.shape)"
   ]
  },
  {
   "cell_type": "markdown",
   "metadata": {},
   "source": [
    "데이터에 대한 정규화를 진행해준다."
   ]
  },
  {
   "cell_type": "code",
   "execution_count": 11,
   "metadata": {},
   "outputs": [],
   "source": [
    "# normalization\n",
    "X_train /= 255.\n",
    "X_val /= 255.\n"
   ]
  },
  {
   "cell_type": "markdown",
   "metadata": {},
   "source": [
    "Conv2D와 맥스풀링을 이용해 모델을 학습시켜본다."
   ]
  },
  {
   "cell_type": "code",
   "execution_count": 12,
   "metadata": {},
   "outputs": [],
   "source": [
    "def model1(input_shape=(32, 32, 3)):\n",
    "    tf.random.set_seed(8)\n",
    "    model = tf.keras.models.Sequential([\n",
    "        tf.keras.layers.Input(shape=input_shape),\n",
    "        tf.keras.layers.Conv2D(filters=32, kernel_size=(5,5), strides=(1,1),\n",
    "                            kernel_initializer=tf.keras.initializers.glorot_uniform()),\n",
    "        tf.keras.layers.MaxPooling2D((2,2)),\n",
    "        tf.keras.layers.Conv2D(filters=64, kernel_size=(5,5), strides=(1,1),\n",
    "                            kernel_initializer=tf.keras.initializers.glorot_uniform()),\n",
    "        tf.keras.layers.MaxPooling2D((2,2)),\n",
    "        tf.keras.layers.Flatten(),\n",
    "        tf.keras.layers.Dense(1024, activation='relu',\n",
    "                            kernel_initializer=tf.keras.initializers.glorot_uniform()),\n",
    "        tf.keras.layers.Dense(N_CLASSES, activation='softmax',\n",
    "                            kernel_initializer=tf.keras.initializers.glorot_uniform())\n",
    "    ])\n",
    "    \n",
    "    model.summary()\n",
    "    return model"
   ]
  },
  {
   "cell_type": "code",
   "execution_count": 13,
   "metadata": {},
   "outputs": [
    {
     "name": "stdout",
     "output_type": "stream",
     "text": [
      "Model: \"sequential\"\n",
      "_________________________________________________________________\n",
      " Layer (type)                Output Shape              Param #   \n",
      "=================================================================\n",
      " conv2d (Conv2D)             (None, 28, 28, 32)        2432      \n",
      "                                                                 \n",
      " max_pooling2d (MaxPooling2D  (None, 14, 14, 32)       0         \n",
      " )                                                               \n",
      "                                                                 \n",
      " conv2d_1 (Conv2D)           (None, 10, 10, 64)        51264     \n",
      "                                                                 \n",
      " max_pooling2d_1 (MaxPooling  (None, 5, 5, 64)         0         \n",
      " 2D)                                                             \n",
      "                                                                 \n",
      " flatten (Flatten)           (None, 1600)              0         \n",
      "                                                                 \n",
      " dense (Dense)               (None, 1024)              1639424   \n",
      "                                                                 \n",
      " dense_1 (Dense)             (None, 43)                44075     \n",
      "                                                                 \n",
      "=================================================================\n",
      "Total params: 1,737,195\n",
      "Trainable params: 1,737,195\n",
      "Non-trainable params: 0\n",
      "_________________________________________________________________\n",
      "Epoch 1/10\n",
      "123/123 [==============================] - 18s 143ms/step - loss: 1.1101 - acc: 0.7198 - val_loss: 0.2555 - val_acc: 0.9333\n",
      "Epoch 2/10\n",
      "123/123 [==============================] - 19s 151ms/step - loss: 0.1609 - acc: 0.9634 - val_loss: 0.1261 - val_acc: 0.9689\n",
      "Epoch 3/10\n",
      "123/123 [==============================] - 18s 148ms/step - loss: 0.0724 - acc: 0.9842 - val_loss: 0.0867 - val_acc: 0.9787\n",
      "Epoch 4/10\n",
      "123/123 [==============================] - 18s 147ms/step - loss: 0.0379 - acc: 0.9916 - val_loss: 0.0961 - val_acc: 0.9795\n",
      "Epoch 5/10\n",
      "123/123 [==============================] - 18s 147ms/step - loss: 0.0310 - acc: 0.9930 - val_loss: 0.0620 - val_acc: 0.9860\n",
      "Epoch 6/10\n",
      "123/123 [==============================] - 18s 149ms/step - loss: 0.0134 - acc: 0.9972 - val_loss: 0.0541 - val_acc: 0.9885\n",
      "Epoch 7/10\n",
      "123/123 [==============================] - 18s 149ms/step - loss: 0.0078 - acc: 0.9985 - val_loss: 0.0622 - val_acc: 0.9887\n",
      "Epoch 8/10\n",
      "123/123 [==============================] - 18s 150ms/step - loss: 0.0147 - acc: 0.9967 - val_loss: 0.0660 - val_acc: 0.9856\n",
      "Epoch 9/10\n",
      "123/123 [==============================] - 19s 151ms/step - loss: 0.0360 - acc: 0.9914 - val_loss: 0.1123 - val_acc: 0.9759\n",
      "Epoch 10/10\n",
      "123/123 [==============================] - 19s 151ms/step - loss: 0.0338 - acc: 0.9912 - val_loss: 0.0674 - val_acc: 0.9871\n"
     ]
    }
   ],
   "source": [
    "m1 = model1()\n",
    "m1.compile(optimizer=tf.keras.optimizers.Adam(0.001),\n",
    "        loss='categorical_crossentropy',\n",
    "        metrics=['acc'])\n",
    "h1 = m1.fit(X_train, y_train, batch_size=256, epochs=10, validation_data=(X_val, y_val))\n"
   ]
  },
  {
   "cell_type": "markdown",
   "metadata": {},
   "source": [
    "굉장히 높은 정확도를 보여주고있는 모습이다 검증데이터 세트도 굉장히 높은 결과를 얻었다 훈련세트의 정확도가 너무 높은것을 보아 과대적합을 의심해 볼 수 있다."
   ]
  },
  {
   "cell_type": "code",
   "execution_count": 14,
   "metadata": {},
   "outputs": [
    {
     "name": "stdout",
     "output_type": "stream",
     "text": [
      "246/246 [==============================] - 2s 8ms/step - loss: 0.0674 - acc: 0.9871\n"
     ]
    },
    {
     "data": {
      "text/plain": [
       "[0.06736297160387039, 0.9871206283569336]"
      ]
     },
     "execution_count": 14,
     "metadata": {},
     "output_type": "execute_result"
    }
   ],
   "source": [
    "m1.evaluate(X_val, y_val)\n"
   ]
  },
  {
   "cell_type": "code",
   "execution_count": 35,
   "metadata": {},
   "outputs": [
    {
     "name": "stdout",
     "output_type": "stream",
     "text": [
      "246/246 [==============================] - 2s 7ms/step\n",
      "              precision    recall  f1-score   support\n",
      "\n",
      "           0       0.96      1.00      0.98        51\n",
      "           1       0.97      0.98      0.98       426\n",
      "           2       0.99      0.99      0.99       456\n",
      "           3       0.97      0.97      0.97       294\n",
      "           4       1.00      0.98      0.99       412\n",
      "           5       0.97      0.96      0.96       380\n",
      "           6       1.00      0.99      0.99        80\n",
      "           7       0.99      0.98      0.99       284\n",
      "           8       0.98      0.99      0.99       284\n",
      "           9       0.99      1.00      0.99       324\n",
      "          10       1.00      0.98      0.99       402\n",
      "          11       0.99      0.99      0.99       268\n",
      "          12       1.00      1.00      1.00       435\n",
      "          13       0.99      1.00      0.99       428\n",
      "          14       0.99      1.00      1.00       176\n",
      "          15       0.98      0.99      0.99       132\n",
      "          16       1.00      1.00      1.00        77\n",
      "          17       1.00      1.00      1.00       224\n",
      "          18       0.99      1.00      0.99       229\n",
      "          19       0.98      0.98      0.98        43\n",
      "          20       0.97      0.95      0.96        63\n",
      "          21       0.97      0.99      0.98        68\n",
      "          22       0.96      1.00      0.98        80\n",
      "          23       0.98      0.98      0.98       102\n",
      "          24       1.00      1.00      1.00        59\n",
      "          25       0.98      0.99      0.99       320\n",
      "          26       0.98      0.99      0.99       113\n",
      "          27       1.00      1.00      1.00        49\n",
      "          28       1.00      0.99      0.99        96\n",
      "          29       0.98      0.94      0.96        54\n",
      "          30       1.00      0.97      0.98        87\n",
      "          31       1.00      0.97      0.99       141\n",
      "          32       0.98      0.93      0.96        46\n",
      "          33       1.00      1.00      1.00       137\n",
      "          34       1.00      0.96      0.98        73\n",
      "          35       0.97      0.99      0.98       214\n",
      "          36       0.97      1.00      0.98        63\n",
      "          37       0.98      0.98      0.98        47\n",
      "          38       1.00      1.00      1.00       431\n",
      "          39       1.00      1.00      1.00        47\n",
      "          40       0.97      1.00      0.99        70\n",
      "          41       0.94      1.00      0.97        33\n",
      "          42       1.00      1.00      1.00        44\n",
      "\n",
      "    accuracy                           0.99      7842\n",
      "   macro avg       0.99      0.99      0.99      7842\n",
      "weighted avg       0.99      0.99      0.99      7842\n",
      "\n"
     ]
    }
   ],
   "source": [
    "from sklearn.metrics import classification_report\n",
    "\n",
    "y_val_pred = m1.predict(X_val)\n",
    "y_val_pred_classified = np.argmax(y_val_pred, axis=1).astype(np.int32)\n",
    "y_val_true_classified = np.argmax(y_val, axis=1).astype(np.int32)\n",
    "print(classification_report(y_val_true_classified, y_val_pred_classified))"
   ]
  },
  {
   "cell_type": "code",
   "execution_count": null,
   "metadata": {},
   "outputs": [],
   "source": []
  },
  {
   "cell_type": "markdown",
   "metadata": {},
   "source": [
    "val loss 가 증가하고 감소하는것이 반보고디는 모습을 보이고 val acc또한 일정수준에 도달 후 낮아지는 모습을 볼 수 있다."
   ]
  },
  {
   "cell_type": "code",
   "execution_count": 15,
   "metadata": {},
   "outputs": [
    {
     "data": {
      "image/png": "[encoded data removed]",
      "text/plain": [
       "<Figure size 640x480 with 1 Axes>"
      ]
     },
     "metadata": {},
     "output_type": "display_data"
    }
   ],
   "source": [
    "epochs = [i for i in range(1, len(h1.history['acc']) + 1)]\n",
    "plt.plot(epochs, h1.history['loss'], label='train loss')\n",
    "plt.plot(epochs, h1.history['val_loss'], 'r', label='val loss')\n",
    "plt.title('loss')\n",
    "plt.legend()\n",
    "plt.show()"
   ]
  },
  {
   "cell_type": "code",
   "execution_count": 16,
   "metadata": {},
   "outputs": [
    {
     "data": {
      "image/png": "[encoded data removed]",
      "text/plain": [
       "<Figure size 640x480 with 1 Axes>"
      ]
     },
     "metadata": {},
     "output_type": "display_data"
    }
   ],
   "source": [
    "plt.plot(epochs, h1.history['acc'], label='train acc')\n",
    "plt.plot(epochs, h1.history['val_acc'], 'r', label='val acc')\n",
    "plt.title('accuracy')\n",
    "plt.legend()\n",
    "plt.show()"
   ]
  },
  {
   "cell_type": "markdown",
   "metadata": {},
   "source": [
    "첫번째 모델의 과대적합을 해결하기 위해 dropout을 추가하여 학습해보자"
   ]
  },
  {
   "cell_type": "code",
   "execution_count": 17,
   "metadata": {},
   "outputs": [],
   "source": [
    "def model2(input_shape=(32, 32, 3)):\n",
    "    tf.random.set_seed(8)\n",
    "    model = tf.keras.models.Sequential([\n",
    "        tf.keras.layers.Input(shape=input_shape),\n",
    "        tf.keras.layers.Conv2D(filters=32, kernel_size=(5,5), strides=(1,1),\n",
    "                            kernel_initializer=tf.keras.initializers.glorot_uniform()),\n",
    "        tf.keras.layers.MaxPooling2D((2,2)),\n",
    "        tf.keras.layers.Dropout(0.2),\n",
    "        tf.keras.layers.Conv2D(filters=64, kernel_size=(5,5), strides=(1,1),\n",
    "                            kernel_initializer=tf.keras.initializers.glorot_uniform()),\n",
    "        tf.keras.layers.MaxPooling2D((2,2)),\n",
    "        tf.keras.layers.Dropout(0.2),\n",
    "        tf.keras.layers.Flatten(),\n",
    "        tf.keras.layers.Dense(1024, activation='relu',\n",
    "                            kernel_initializer=tf.keras.initializers.glorot_uniform()),\n",
    "        tf.keras.layers.Dropout(0.4),\n",
    "        tf.keras.layers.Dense(N_CLASSES, activation='softmax',\n",
    "                            kernel_initializer=tf.keras.initializers.glorot_uniform())\n",
    "    ])\n",
    "    \n",
    "    model.summary()\n",
    "    return model"
   ]
  },
  {
   "cell_type": "markdown",
   "metadata": {},
   "source": [
    "최적화 알고리즘으로 adam의 학습률을 0.001로 두고 batch_size를 256, 에포크를 10으로 두고학습하였다."
   ]
  },
  {
   "cell_type": "code",
   "execution_count": 18,
   "metadata": {},
   "outputs": [
    {
     "name": "stdout",
     "output_type": "stream",
     "text": [
      "Model: \"sequential_1\"\n",
      "_________________________________________________________________\n",
      " Layer (type)                Output Shape              Param #   \n",
      "=================================================================\n",
      " conv2d_2 (Conv2D)           (None, 28, 28, 32)        2432      \n",
      "                                                                 \n",
      " max_pooling2d_2 (MaxPooling  (None, 14, 14, 32)       0         \n",
      " 2D)                                                             \n",
      "                                                                 \n",
      " dropout (Dropout)           (None, 14, 14, 32)        0         \n",
      "                                                                 \n",
      " conv2d_3 (Conv2D)           (None, 10, 10, 64)        51264     \n",
      "                                                                 \n",
      " max_pooling2d_3 (MaxPooling  (None, 5, 5, 64)         0         \n",
      " 2D)                                                             \n",
      "                                                                 \n",
      " dropout_1 (Dropout)         (None, 5, 5, 64)          0         \n",
      "                                                                 \n",
      " flatten_1 (Flatten)         (None, 1600)              0         \n",
      "                                                                 \n",
      " dense_2 (Dense)             (None, 1024)              1639424   \n",
      "                                                                 \n",
      " dropout_2 (Dropout)         (None, 1024)              0         \n",
      "                                                                 \n",
      " dense_3 (Dense)             (None, 43)                44075     \n",
      "                                                                 \n",
      "=================================================================\n",
      "Total params: 1,737,195\n",
      "Trainable params: 1,737,195\n",
      "Non-trainable params: 0\n",
      "_________________________________________________________________\n",
      "Epoch 1/10\n",
      "123/123 [==============================] - 22s 170ms/step - loss: 1.3014 - acc: 0.6534 - val_loss: 0.3092 - val_acc: 0.9166\n",
      "Epoch 2/10\n",
      "123/123 [==============================] - 21s 171ms/step - loss: 0.2520 - acc: 0.9320 - val_loss: 0.1228 - val_acc: 0.9723\n",
      "Epoch 3/10\n",
      "123/123 [==============================] - 21s 170ms/step - loss: 0.1315 - acc: 0.9653 - val_loss: 0.0729 - val_acc: 0.9844\n",
      "Epoch 4/10\n",
      "123/123 [==============================] - 21s 170ms/step - loss: 0.0895 - acc: 0.9756 - val_loss: 0.0726 - val_acc: 0.9833\n",
      "Epoch 5/10\n",
      "123/123 [==============================] - 21s 171ms/step - loss: 0.0660 - acc: 0.9818 - val_loss: 0.0558 - val_acc: 0.9872\n",
      "Epoch 6/10\n",
      "123/123 [==============================] - 21s 169ms/step - loss: 0.0561 - acc: 0.9838 - val_loss: 0.0521 - val_acc: 0.9889\n",
      "Epoch 7/10\n",
      "123/123 [==============================] - 23s 186ms/step - loss: 0.0427 - acc: 0.9873 - val_loss: 0.0589 - val_acc: 0.9892\n",
      "Epoch 8/10\n",
      "123/123 [==============================] - 20s 166ms/step - loss: 0.0356 - acc: 0.9894 - val_loss: 0.0495 - val_acc: 0.9889\n",
      "Epoch 9/10\n",
      "123/123 [==============================] - 20s 166ms/step - loss: 0.0316 - acc: 0.9908 - val_loss: 0.0510 - val_acc: 0.9898\n",
      "Epoch 10/10\n",
      "123/123 [==============================] - 22s 179ms/step - loss: 0.0318 - acc: 0.9907 - val_loss: 0.0512 - val_acc: 0.9895\n"
     ]
    }
   ],
   "source": [
    "m2 = model2()\n",
    "m2.compile(optimizer=tf.keras.optimizers.Adam(0.001),\n",
    "        loss='categorical_crossentropy',\n",
    "        metrics=['acc'])\n",
    "h2 = m2.fit(X_train, y_train, batch_size=256, epochs=10, validation_data=(X_val, y_val))\n"
   ]
  },
  {
   "cell_type": "markdown",
   "metadata": {},
   "source": [
    "검증세트의 정확도는 더 좋아졌으나 사실 과대적합이 완벽하게 해결된것 같지는 않은 결과이다."
   ]
  },
  {
   "cell_type": "code",
   "execution_count": 19,
   "metadata": {},
   "outputs": [
    {
     "name": "stdout",
     "output_type": "stream",
     "text": [
      "246/246 [==============================] - 2s 8ms/step - loss: 0.0512 - acc: 0.9895\n"
     ]
    },
    {
     "data": {
      "text/plain": [
       "[0.05115392431616783, 0.9895434975624084]"
      ]
     },
     "execution_count": 19,
     "metadata": {},
     "output_type": "execute_result"
    }
   ],
   "source": [
    "m2.evaluate(X_val, y_val)\n"
   ]
  },
  {
   "cell_type": "code",
   "execution_count": 36,
   "metadata": {},
   "outputs": [
    {
     "name": "stdout",
     "output_type": "stream",
     "text": [
      "246/246 [==============================] - 2s 8ms/step\n",
      "              precision    recall  f1-score   support\n",
      "\n",
      "           0       0.98      0.98      0.98        51\n",
      "           1       0.98      1.00      0.99       426\n",
      "           2       1.00      0.98      0.99       456\n",
      "           3       0.99      0.98      0.99       294\n",
      "           4       1.00      1.00      1.00       412\n",
      "           5       0.99      0.98      0.98       380\n",
      "           6       0.99      1.00      0.99        80\n",
      "           7       0.99      0.99      0.99       284\n",
      "           8       1.00      0.99      1.00       284\n",
      "           9       1.00      1.00      1.00       324\n",
      "          10       0.99      0.99      0.99       402\n",
      "          11       0.95      0.99      0.97       268\n",
      "          12       0.99      1.00      1.00       435\n",
      "          13       0.99      0.99      0.99       428\n",
      "          14       0.99      0.99      0.99       176\n",
      "          15       1.00      0.98      0.99       132\n",
      "          16       1.00      1.00      1.00        77\n",
      "          17       1.00      1.00      1.00       224\n",
      "          18       0.99      1.00      0.99       229\n",
      "          19       1.00      0.95      0.98        43\n",
      "          20       0.97      0.95      0.96        63\n",
      "          21       1.00      0.97      0.99        68\n",
      "          22       0.99      1.00      0.99        80\n",
      "          23       0.98      0.98      0.98       102\n",
      "          24       1.00      1.00      1.00        59\n",
      "          25       0.99      0.99      0.99       320\n",
      "          26       0.97      0.99      0.98       113\n",
      "          27       1.00      1.00      1.00        49\n",
      "          28       1.00      0.98      0.99        96\n",
      "          29       1.00      1.00      1.00        54\n",
      "          30       1.00      0.86      0.93        87\n",
      "          31       0.99      0.99      0.99       141\n",
      "          32       0.98      0.89      0.93        46\n",
      "          33       1.00      1.00      1.00       137\n",
      "          34       1.00      1.00      1.00        73\n",
      "          35       1.00      1.00      1.00       214\n",
      "          36       0.98      1.00      0.99        63\n",
      "          37       1.00      1.00      1.00        47\n",
      "          38       1.00      1.00      1.00       431\n",
      "          39       1.00      1.00      1.00        47\n",
      "          40       0.99      1.00      0.99        70\n",
      "          41       0.85      1.00      0.92        33\n",
      "          42       0.98      0.98      0.98        44\n",
      "\n",
      "    accuracy                           0.99      7842\n",
      "   macro avg       0.99      0.99      0.99      7842\n",
      "weighted avg       0.99      0.99      0.99      7842\n",
      "\n"
     ]
    }
   ],
   "source": [
    "from sklearn.metrics import classification_report\n",
    "\n",
    "y_val_pred = m2.predict(X_val)\n",
    "y_val_pred_classified = np.argmax(y_val_pred, axis=1).astype(np.int32)\n",
    "y_val_true_classified = np.argmax(y_val, axis=1).astype(np.int32)\n",
    "print(classification_report(y_val_true_classified, y_val_pred_classified))"
   ]
  },
  {
   "cell_type": "markdown",
   "metadata": {},
   "source": [
    "에포크수를 조금 줄여서 학습해보자"
   ]
  },
  {
   "cell_type": "code",
   "execution_count": 39,
   "metadata": {},
   "outputs": [
    {
     "name": "stdout",
     "output_type": "stream",
     "text": [
      "Model: \"sequential_7\"\n",
      "_________________________________________________________________\n",
      " Layer (type)                Output Shape              Param #   \n",
      "=================================================================\n",
      " conv2d_6 (Conv2D)           (None, 28, 28, 32)        2432      \n",
      "                                                                 \n",
      " max_pooling2d_6 (MaxPooling  (None, 14, 14, 32)       0         \n",
      " 2D)                                                             \n",
      "                                                                 \n",
      " dropout_11 (Dropout)        (None, 14, 14, 32)        0         \n",
      "                                                                 \n",
      " conv2d_7 (Conv2D)           (None, 10, 10, 64)        51264     \n",
      "                                                                 \n",
      " max_pooling2d_7 (MaxPooling  (None, 5, 5, 64)         0         \n",
      " 2D)                                                             \n",
      "                                                                 \n",
      " dropout_12 (Dropout)        (None, 5, 5, 64)          0         \n",
      "                                                                 \n",
      " flatten_7 (Flatten)         (None, 1600)              0         \n",
      "                                                                 \n",
      " dense_14 (Dense)            (None, 1024)              1639424   \n",
      "                                                                 \n",
      " dropout_13 (Dropout)        (None, 1024)              0         \n",
      "                                                                 \n",
      " dense_15 (Dense)            (None, 43)                44075     \n",
      "                                                                 \n",
      "=================================================================\n",
      "Total params: 1,737,195\n",
      "Trainable params: 1,737,195\n",
      "Non-trainable params: 0\n",
      "_________________________________________________________________\n",
      "Epoch 1/5\n",
      "123/123 [==============================] - 21s 170ms/step - loss: 1.3430 - acc: 0.6449 - val_loss: 0.3024 - val_acc: 0.9226\n",
      "Epoch 2/5\n",
      "123/123 [==============================] - 21s 167ms/step - loss: 0.2606 - acc: 0.9287 - val_loss: 0.1283 - val_acc: 0.9717\n",
      "Epoch 3/5\n",
      "123/123 [==============================] - 20s 165ms/step - loss: 0.1382 - acc: 0.9629 - val_loss: 0.0836 - val_acc: 0.9816\n",
      "Epoch 4/5\n",
      "123/123 [==============================] - 21s 167ms/step - loss: 0.0928 - acc: 0.9749 - val_loss: 0.0680 - val_acc: 0.9839\n",
      "Epoch 5/5\n",
      "123/123 [==============================] - 21s 172ms/step - loss: 0.0670 - acc: 0.9808 - val_loss: 0.0540 - val_acc: 0.9881\n"
     ]
    }
   ],
   "source": [
    "m2_1 = model2()\n",
    "m2_1.compile(optimizer=tf.keras.optimizers.Adam(0.001),\n",
    "        loss='categorical_crossentropy',\n",
    "        metrics=['acc'])\n",
    "h2_1 = m2_1.fit(X_train, y_train, batch_size=256, epochs=5, validation_data=(X_val, y_val))"
   ]
  },
  {
   "cell_type": "markdown",
   "metadata": {},
   "source": [
    "에포크를 줄여도 과대적합은 해결된거같지않다 학습률을 한번 조정해보자"
   ]
  },
  {
   "cell_type": "code",
   "execution_count": 40,
   "metadata": {},
   "outputs": [
    {
     "name": "stdout",
     "output_type": "stream",
     "text": [
      "Model: \"sequential_8\"\n",
      "_________________________________________________________________\n",
      " Layer (type)                Output Shape              Param #   \n",
      "=================================================================\n",
      " conv2d_8 (Conv2D)           (None, 28, 28, 32)        2432      \n",
      "                                                                 \n",
      " max_pooling2d_8 (MaxPooling  (None, 14, 14, 32)       0         \n",
      " 2D)                                                             \n",
      "                                                                 \n",
      " dropout_14 (Dropout)        (None, 14, 14, 32)        0         \n",
      "                                                                 \n",
      " conv2d_9 (Conv2D)           (None, 10, 10, 64)        51264     \n",
      "                                                                 \n",
      " max_pooling2d_9 (MaxPooling  (None, 5, 5, 64)         0         \n",
      " 2D)                                                             \n",
      "                                                                 \n",
      " dropout_15 (Dropout)        (None, 5, 5, 64)          0         \n",
      "                                                                 \n",
      " flatten_8 (Flatten)         (None, 1600)              0         \n",
      "                                                                 \n",
      " dense_16 (Dense)            (None, 1024)              1639424   \n",
      "                                                                 \n",
      " dropout_16 (Dropout)        (None, 1024)              0         \n",
      "                                                                 \n",
      " dense_17 (Dense)            (None, 43)                44075     \n",
      "                                                                 \n",
      "=================================================================\n",
      "Total params: 1,737,195\n",
      "Trainable params: 1,737,195\n",
      "Non-trainable params: 0\n",
      "_________________________________________________________________\n",
      "Epoch 1/6\n",
      "123/123 [==============================] - 24s 197ms/step - loss: 0.0274 - acc: 0.9918 - val_loss: 0.0487 - val_acc: 0.9916\n",
      "Epoch 2/6\n",
      "123/123 [==============================] - 23s 188ms/step - loss: 0.0167 - acc: 0.9950 - val_loss: 0.0562 - val_acc: 0.9916\n",
      "Epoch 3/6\n",
      "123/123 [==============================] - 22s 177ms/step - loss: 0.0160 - acc: 0.9952 - val_loss: 0.0508 - val_acc: 0.9913\n",
      "Epoch 4/6\n",
      "123/123 [==============================] - 21s 167ms/step - loss: 0.0203 - acc: 0.9943 - val_loss: 0.0644 - val_acc: 0.9894\n",
      "Epoch 5/6\n",
      "123/123 [==============================] - 20s 165ms/step - loss: 0.0253 - acc: 0.9931 - val_loss: 0.0630 - val_acc: 0.9906\n",
      "Epoch 6/6\n",
      "123/123 [==============================] - 21s 168ms/step - loss: 0.0199 - acc: 0.9944 - val_loss: 0.0691 - val_acc: 0.9907\n"
     ]
    }
   ],
   "source": [
    "m2_2 = model2()\n",
    "m2_2.compile(optimizer=tf.keras.optimizers.Adam(0.01),\n",
    "        loss='categorical_crossentropy',\n",
    "        metrics=['acc'])\n",
    "h2_2 = m2.fit(X_train, y_train, batch_size=256, epochs=6, validation_data=(X_val, y_val))"
   ]
  },
  {
   "cell_type": "code",
   "execution_count": 41,
   "metadata": {},
   "outputs": [
    {
     "name": "stdout",
     "output_type": "stream",
     "text": [
      "Model: \"sequential_9\"\n",
      "_________________________________________________________________\n",
      " Layer (type)                Output Shape              Param #   \n",
      "=================================================================\n",
      " conv2d_10 (Conv2D)          (None, 28, 28, 32)        2432      \n",
      "                                                                 \n",
      " max_pooling2d_10 (MaxPoolin  (None, 14, 14, 32)       0         \n",
      " g2D)                                                            \n",
      "                                                                 \n",
      " dropout_17 (Dropout)        (None, 14, 14, 32)        0         \n",
      "                                                                 \n",
      " conv2d_11 (Conv2D)          (None, 10, 10, 64)        51264     \n",
      "                                                                 \n",
      " max_pooling2d_11 (MaxPoolin  (None, 5, 5, 64)         0         \n",
      " g2D)                                                            \n",
      "                                                                 \n",
      " dropout_18 (Dropout)        (None, 5, 5, 64)          0         \n",
      "                                                                 \n",
      " flatten_9 (Flatten)         (None, 1600)              0         \n",
      "                                                                 \n",
      " dense_18 (Dense)            (None, 1024)              1639424   \n",
      "                                                                 \n",
      " dropout_19 (Dropout)        (None, 1024)              0         \n",
      "                                                                 \n",
      " dense_19 (Dense)            (None, 43)                44075     \n",
      "                                                                 \n",
      "=================================================================\n",
      "Total params: 1,737,195\n",
      "Trainable params: 1,737,195\n",
      "Non-trainable params: 0\n",
      "_________________________________________________________________\n",
      "Epoch 1/6\n",
      "123/123 [==============================] - 25s 200ms/step - loss: 0.0263 - acc: 0.9928 - val_loss: 0.0599 - val_acc: 0.9902\n",
      "Epoch 2/6\n",
      "123/123 [==============================] - 23s 187ms/step - loss: 0.0211 - acc: 0.9952 - val_loss: 0.0679 - val_acc: 0.9901\n",
      "Epoch 3/6\n",
      "123/123 [==============================] - 22s 175ms/step - loss: 0.0296 - acc: 0.9927 - val_loss: 0.0654 - val_acc: 0.9906\n",
      "Epoch 4/6\n",
      "123/123 [==============================] - 20s 162ms/step - loss: 0.0194 - acc: 0.9946 - val_loss: 0.0677 - val_acc: 0.9890\n",
      "Epoch 5/6\n",
      "123/123 [==============================] - 22s 178ms/step - loss: 0.0209 - acc: 0.9944 - val_loss: 0.0480 - val_acc: 0.9930\n",
      "Epoch 6/6\n",
      "123/123 [==============================] - 22s 179ms/step - loss: 0.0205 - acc: 0.9947 - val_loss: 0.0499 - val_acc: 0.9918\n"
     ]
    }
   ],
   "source": [
    "m2_3 = model2()\n",
    "m2_3.compile(optimizer=tf.keras.optimizers.Adam(0.0001),\n",
    "        loss='categorical_crossentropy',\n",
    "        metrics=['acc'])\n",
    "h2_3 = m2.fit(X_train, y_train, batch_size=256, epochs=6, validation_data=(X_val, y_val))"
   ]
  },
  {
   "cell_type": "markdown",
   "metadata": {},
   "source": [
    "이미지 분류용 알고리즘에 좋다고 하는 VGG16로 학습해보자"
   ]
  },
  {
   "cell_type": "code",
   "execution_count": 20,
   "metadata": {},
   "outputs": [
    {
     "name": "stdout",
     "output_type": "stream",
     "text": [
      "Model: \"vgg16\"\n",
      "_________________________________________________________________\n",
      " Layer (type)                Output Shape              Param #   \n",
      "=================================================================\n",
      " input_3 (InputLayer)        [(None, 32, 32, 3)]       0         \n",
      "                                                                 \n",
      " block1_conv1 (Conv2D)       (None, 32, 32, 64)        1792      \n",
      "                                                                 \n",
      " block1_conv2 (Conv2D)       (None, 32, 32, 64)        36928     \n",
      "                                                                 \n",
      " block1_pool (MaxPooling2D)  (None, 16, 16, 64)        0         \n",
      "                                                                 \n",
      " block2_conv1 (Conv2D)       (None, 16, 16, 128)       73856     \n",
      "                                                                 \n",
      " block2_conv2 (Conv2D)       (None, 16, 16, 128)       147584    \n",
      "                                                                 \n",
      " block2_pool (MaxPooling2D)  (None, 8, 8, 128)         0         \n",
      "                                                                 \n",
      " block3_conv1 (Conv2D)       (None, 8, 8, 256)         295168    \n",
      "                                                                 \n",
      " block3_conv2 (Conv2D)       (None, 8, 8, 256)         590080    \n",
      "                                                                 \n",
      " block3_conv3 (Conv2D)       (None, 8, 8, 256)         590080    \n",
      "                                                                 \n",
      " block3_pool (MaxPooling2D)  (None, 4, 4, 256)         0         \n",
      "                                                                 \n",
      " block4_conv1 (Conv2D)       (None, 4, 4, 512)         1180160   \n",
      "                                                                 \n",
      " block4_conv2 (Conv2D)       (None, 4, 4, 512)         2359808   \n",
      "                                                                 \n",
      " block4_conv3 (Conv2D)       (None, 4, 4, 512)         2359808   \n",
      "                                                                 \n",
      " block4_pool (MaxPooling2D)  (None, 2, 2, 512)         0         \n",
      "                                                                 \n",
      " block5_conv1 (Conv2D)       (None, 2, 2, 512)         2359808   \n",
      "                                                                 \n",
      " block5_conv2 (Conv2D)       (None, 2, 2, 512)         2359808   \n",
      "                                                                 \n",
      " block5_conv3 (Conv2D)       (None, 2, 2, 512)         2359808   \n",
      "                                                                 \n",
      " block5_pool (MaxPooling2D)  (None, 1, 1, 512)         0         \n",
      "                                                                 \n",
      "=================================================================\n",
      "Total params: 14,714,688\n",
      "Trainable params: 14,714,688\n",
      "Non-trainable params: 0\n",
      "_________________________________________________________________\n"
     ]
    }
   ],
   "source": [
    "VGG16_base = tf.keras.applications.VGG16(weights='imagenet', include_top=False, input_shape=(32,32,3))\n",
    "VGG16_base.summary()"
   ]
  },
  {
   "cell_type": "markdown",
   "metadata": {},
   "source": [
    "우선 VGG16 모델 이후의 Dense layer를 쌓아서 확장해보도록 하겠습니다. VGG16 모델의 output이 (1,1,512)이기 때문에 확장할 layer의 처음 input은 (1,1,512)가 됩니다.\n",
    "\n",
    "그리고 입력으로 사용되는 feature들은 VGG16의 output이기 때문에 FC layer들의 입력으로 사용될 feature들을 먼저 구하고 그 output을 입력으로 FC layer를 학습합니다."
   ]
  },
  {
   "cell_type": "code",
   "execution_count": 21,
   "metadata": {},
   "outputs": [
    {
     "name": "stdout",
     "output_type": "stream",
     "text": [
      "Model: \"sequential_2\"\n",
      "_________________________________________________________________\n",
      " Layer (type)                Output Shape              Param #   \n",
      "=================================================================\n",
      " flatten_2 (Flatten)         (None, 512)               0         \n",
      "                                                                 \n",
      " dense_4 (Dense)             (None, 512)               262656    \n",
      "                                                                 \n",
      " dropout_3 (Dropout)         (None, 512)               0         \n",
      "                                                                 \n",
      " dense_5 (Dense)             (None, 43)                22059     \n",
      "                                                                 \n",
      "=================================================================\n",
      "Total params: 284,715\n",
      "Trainable params: 284,715\n",
      "Non-trainable params: 0\n",
      "_________________________________________________________________\n",
      "981/981 [==============================] - 115s 117ms/step\n",
      "246/246 [==============================] - 29s 118ms/step\n",
      "246/246 [==============================] - 29s 116ms/step\n",
      "Epoch 1/10\n",
      "123/123 [==============================] - 1s 8ms/step - loss: 2.2969 - acc: 0.3459 - val_loss: 1.6668 - val_acc: 0.5216\n",
      "Epoch 2/10\n",
      "123/123 [==============================] - 1s 7ms/step - loss: 1.6063 - acc: 0.5037 - val_loss: 1.3618 - val_acc: 0.6102\n",
      "Epoch 3/10\n",
      "123/123 [==============================] - 1s 7ms/step - loss: 1.3605 - acc: 0.5769 - val_loss: 1.1916 - val_acc: 0.6488\n",
      "Epoch 4/10\n",
      "123/123 [==============================] - 1s 7ms/step - loss: 1.2088 - acc: 0.6216 - val_loss: 1.1014 - val_acc: 0.6595\n",
      "Epoch 5/10\n",
      "123/123 [==============================] - 1s 7ms/step - loss: 1.0896 - acc: 0.6587 - val_loss: 0.9879 - val_acc: 0.7024\n",
      "Epoch 6/10\n",
      "123/123 [==============================] - 1s 7ms/step - loss: 1.0020 - acc: 0.6845 - val_loss: 0.9056 - val_acc: 0.7334\n",
      "Epoch 7/10\n",
      "123/123 [==============================] - 1s 7ms/step - loss: 0.9254 - acc: 0.7085 - val_loss: 0.8517 - val_acc: 0.7450\n",
      "Epoch 8/10\n",
      "123/123 [==============================] - 1s 7ms/step - loss: 0.8632 - acc: 0.7287 - val_loss: 0.8077 - val_acc: 0.7527\n",
      "Epoch 9/10\n",
      "123/123 [==============================] - 1s 7ms/step - loss: 0.8144 - acc: 0.7425 - val_loss: 0.7638 - val_acc: 0.7730\n",
      "Epoch 10/10\n",
      "123/123 [==============================] - 1s 7ms/step - loss: 0.7642 - acc: 0.7602 - val_loss: 0.7190 - val_acc: 0.7828\n"
     ]
    },
    {
     "data": {
      "text/plain": [
       "<keras.callbacks.History at 0x16a24666770>"
      ]
     },
     "execution_count": 21,
     "metadata": {},
     "output_type": "execute_result"
    }
   ],
   "source": [
    "def FC_model():\n",
    "    tf.random.set_seed(8)\n",
    "    model = tf.keras.models.Sequential([\n",
    "        tf.keras.layers.Flatten(input_shape=(1,1,512)),\n",
    "        tf.keras.layers.Dense(512, activation='relu',\n",
    "                            kernel_initializer=tf.keras.initializers.glorot_uniform()),\n",
    "        tf.keras.layers.Dropout(0.4),\n",
    "        tf.keras.layers.Dense(N_CLASSES, activation='sigmoid')\n",
    "    ])\n",
    "    \n",
    "    model.compile(optimizer=tf.keras.optimizers.Adam(0.001),\n",
    "                loss='categorical_crossentropy',\n",
    "                metrics=['acc'])\n",
    "    model.summary()\n",
    "    return model\n",
    "\n",
    "m3 = FC_model()\n",
    "\n",
    "feature_train = VGG16_base.predict(X_train)\n",
    "feature_val = VGG16_base.predict(X_val)\n",
    "feature_test = VGG16_base.predict(X_val)\n",
    "\n",
    "m3.fit(feature_train, y_train, batch_size=256, epochs=10, validation_data=(feature_val, y_val))\n"
   ]
  },
  {
   "cell_type": "code",
   "execution_count": 22,
   "metadata": {},
   "outputs": [
    {
     "name": "stdout",
     "output_type": "stream",
     "text": [
      "Model: \"sequential_3\"\n",
      "_________________________________________________________________\n",
      " Layer (type)                Output Shape              Param #   \n",
      "=================================================================\n",
      " vgg16 (Functional)          (None, 1, 1, 512)         14714688  \n",
      "                                                                 \n",
      " flatten_3 (Flatten)         (None, 512)               0         \n",
      "                                                                 \n",
      " dense_6 (Dense)             (None, 512)               262656    \n",
      "                                                                 \n",
      " dropout_4 (Dropout)         (None, 512)               0         \n",
      "                                                                 \n",
      " dense_7 (Dense)             (None, 43)                22059     \n",
      "                                                                 \n",
      "=================================================================\n",
      "Total params: 14,999,403\n",
      "Trainable params: 14,999,403\n",
      "Non-trainable params: 0\n",
      "_________________________________________________________________\n"
     ]
    }
   ],
   "source": [
    "tf.random.set_seed(8)\n",
    "VGG16_model = tf.keras.models.Sequential([\n",
    "    VGG16_base,\n",
    "    tf.keras.layers.Flatten(),\n",
    "    tf.keras.layers.Dense(512, activation='relu',\n",
    "                        kernel_initializer=tf.keras.initializers.glorot_uniform()),\n",
    "    tf.keras.layers.Dropout(0.4),\n",
    "    tf.keras.layers.Dense(N_CLASSES, activation='softmax',\n",
    "                        kernel_initializer=tf.keras.initializers.glorot_uniform())\n",
    "])\n",
    "\n",
    "VGG16_model.summary()"
   ]
  },
  {
   "cell_type": "code",
   "execution_count": 23,
   "metadata": {},
   "outputs": [
    {
     "name": "stdout",
     "output_type": "stream",
     "text": [
      "훈련되는 가중치의 수: 10\n"
     ]
    }
   ],
   "source": [
    "VGG16_base.trainable = True\n",
    " \n",
    "set_trainable = False\n",
    "for layer in VGG16_base.layers:\n",
    "    if layer.name == 'block5_conv1':\n",
    "        set_trainable = True\n",
    "    if set_trainable:\n",
    "        layer.trainable = True\n",
    "    else:\n",
    "        layer.trainable = False\n",
    " \n",
    "print('훈련되는 가중치의 수:', len(VGG16_model.trainable_weights))\n"
   ]
  },
  {
   "cell_type": "code",
   "execution_count": 24,
   "metadata": {},
   "outputs": [
    {
     "name": "stdout",
     "output_type": "stream",
     "text": [
      "Epoch 1/10\n",
      "123/123 [==============================] - 382s 3s/step - loss: 1.6815 - acc: 0.4771 - val_loss: 0.8795 - val_acc: 0.6988\n",
      "Epoch 2/10\n",
      "123/123 [==============================] - 407s 3s/step - loss: 0.6782 - acc: 0.7696 - val_loss: 0.4535 - val_acc: 0.8484\n",
      "Epoch 3/10\n",
      "123/123 [==============================] - 397s 3s/step - loss: 0.3916 - acc: 0.8653 - val_loss: 0.3570 - val_acc: 0.8812\n",
      "Epoch 4/10\n",
      "123/123 [==============================] - 389s 3s/step - loss: 0.2819 - acc: 0.9056 - val_loss: 0.2852 - val_acc: 0.9079\n",
      "Epoch 5/10\n",
      "123/123 [==============================] - 382s 3s/step - loss: 0.1945 - acc: 0.9354 - val_loss: 0.2412 - val_acc: 0.9226\n",
      "Epoch 6/10\n",
      "123/123 [==============================] - 391s 3s/step - loss: 0.1530 - acc: 0.9491 - val_loss: 0.2231 - val_acc: 0.9353\n",
      "Epoch 7/10\n",
      "123/123 [==============================] - 385s 3s/step - loss: 0.1413 - acc: 0.9542 - val_loss: 0.2301 - val_acc: 0.9348\n",
      "Epoch 8/10\n",
      "123/123 [==============================] - 383s 3s/step - loss: 0.1237 - acc: 0.9595 - val_loss: 0.1538 - val_acc: 0.9549\n",
      "Epoch 9/10\n",
      "123/123 [==============================] - 385s 3s/step - loss: 0.0993 - acc: 0.9681 - val_loss: 0.1515 - val_acc: 0.9561\n",
      "Epoch 10/10\n",
      "123/123 [==============================] - 393s 3s/step - loss: 0.0980 - acc: 0.9689 - val_loss: 0.1901 - val_acc: 0.9420\n"
     ]
    }
   ],
   "source": [
    "VGG16_model.compile(optimizer=tf.keras.optimizers.Adam(0.001),\n",
    "                loss='categorical_crossentropy',\n",
    "                metrics=['acc'])\n",
    "history = VGG16_model.fit(X_train, y_train, batch_size=256, epochs=10, validation_data=(X_val, y_val))\n"
   ]
  },
  {
   "cell_type": "code",
   "execution_count": 44,
   "metadata": {},
   "outputs": [
    {
     "data": {
      "image/png": "[encoded data removed]",
      "text/plain": [
       "<Figure size 640x480 with 1 Axes>"
      ]
     },
     "metadata": {},
     "output_type": "display_data"
    }
   ],
   "source": [
    "epochs = [i for i in range(1, len(h1.history['acc']) + 1)]\n",
    "plt.plot(epochs, history.history['loss'], label='train loss')\n",
    "plt.plot(epochs, history.history['val_loss'], 'r', label='val loss')\n",
    "plt.title('loss')\n",
    "plt.legend()\n",
    "plt.show()"
   ]
  },
  {
   "cell_type": "code",
   "execution_count": 45,
   "metadata": {},
   "outputs": [
    {
     "data": {
      "image/png": "[encoded data removed]",
      "text/plain": [
       "<Figure size 640x480 with 1 Axes>"
      ]
     },
     "metadata": {},
     "output_type": "display_data"
    }
   ],
   "source": [
    "plt.plot(epochs, history.history['acc'], label='train acc')\n",
    "plt.plot(epochs, history.history['val_acc'], 'r', label='val acc')\n",
    "plt.title('accuracy')\n",
    "plt.legend()\n",
    "plt.show()"
   ]
  },
  {
   "cell_type": "code",
   "execution_count": 25,
   "metadata": {},
   "outputs": [
    {
     "name": "stdout",
     "output_type": "stream",
     "text": [
      "246/246 [==============================] - 33s 134ms/step - loss: 0.1901 - acc: 0.9420\n"
     ]
    },
    {
     "data": {
      "text/plain": [
       "[0.1901271641254425, 0.9419791102409363]"
      ]
     },
     "execution_count": 25,
     "metadata": {},
     "output_type": "execute_result"
    }
   ],
   "source": [
    "VGG16_model.evaluate(X_val, y_val)\n"
   ]
  },
  {
   "cell_type": "code",
   "execution_count": 37,
   "metadata": {},
   "outputs": [
    {
     "name": "stdout",
     "output_type": "stream",
     "text": [
      "246/246 [==============================] - 27s 110ms/step\n",
      "              precision    recall  f1-score   support\n",
      "\n",
      "           0       0.98      0.98      0.98        51\n",
      "           1       0.98      0.98      0.98       426\n",
      "           2       0.98      0.98      0.98       456\n",
      "           3       0.95      0.98      0.96       294\n",
      "           4       0.98      0.96      0.97       412\n",
      "           5       0.97      0.96      0.96       380\n",
      "           6       1.00      1.00      1.00        80\n",
      "           7       0.97      0.99      0.98       284\n",
      "           8       0.97      0.97      0.97       284\n",
      "           9       1.00      1.00      1.00       324\n",
      "          10       1.00      0.99      1.00       402\n",
      "          11       0.97      0.98      0.98       268\n",
      "          12       1.00      1.00      1.00       435\n",
      "          13       1.00      1.00      1.00       428\n",
      "          14       1.00      1.00      1.00       176\n",
      "          15       1.00      1.00      1.00       132\n",
      "          16       1.00      1.00      1.00        77\n",
      "          17       1.00      1.00      1.00       224\n",
      "          18       1.00      0.99      0.99       229\n",
      "          19       1.00      0.93      0.96        43\n",
      "          20       1.00      0.95      0.98        63\n",
      "          21       0.97      0.97      0.97        68\n",
      "          22       1.00      1.00      1.00        80\n",
      "          23       0.97      0.99      0.98       102\n",
      "          24       0.98      1.00      0.99        59\n",
      "          25       0.98      0.99      0.98       320\n",
      "          26       0.97      0.98      0.98       113\n",
      "          27       1.00      0.94      0.97        49\n",
      "          28       0.95      0.99      0.97        96\n",
      "          29       1.00      1.00      1.00        54\n",
      "          30       1.00      0.99      0.99        87\n",
      "          31       1.00      0.98      0.99       141\n",
      "          32       1.00      1.00      1.00        46\n",
      "          33       1.00      0.99      1.00       137\n",
      "          34       0.96      0.99      0.97        73\n",
      "          35       1.00      0.99      1.00       214\n",
      "          36       0.98      0.98      0.98        63\n",
      "          37       0.98      0.96      0.97        47\n",
      "          38       0.99      0.99      0.99       431\n",
      "          39       1.00      1.00      1.00        47\n",
      "          40       0.93      1.00      0.97        70\n",
      "          41       1.00      0.97      0.98        33\n",
      "          42       1.00      1.00      1.00        44\n",
      "\n",
      "    accuracy                           0.98      7842\n",
      "   macro avg       0.99      0.98      0.99      7842\n",
      "weighted avg       0.98      0.98      0.98      7842\n",
      "\n"
     ]
    }
   ],
   "source": [
    "from sklearn.metrics import classification_report\n",
    "\n",
    "y_val_pred = VGG16_model.predict(X_val)\n",
    "y_val_pred_classified = np.argmax(y_val_pred, axis=1).astype(np.int32)\n",
    "y_val_true_classified = np.argmax(y_val, axis=1).astype(np.int32)\n",
    "print(classification_report(y_val_true_classified, y_val_pred_classified))"
   ]
  },
  {
   "cell_type": "code",
   "execution_count": 26,
   "metadata": {},
   "outputs": [
    {
     "name": "stdout",
     "output_type": "stream",
     "text": [
      "Epoch 1/10\n",
      "123/123 [==============================] - 391s 3s/step - loss: 0.0853 - acc: 0.9723 - val_loss: 0.1735 - val_acc: 0.9490\n",
      "Epoch 2/10\n",
      "123/123 [==============================] - 393s 3s/step - loss: 0.0869 - acc: 0.9718 - val_loss: 0.2366 - val_acc: 0.9313\n",
      "Epoch 3/10\n",
      "123/123 [==============================] - 390s 3s/step - loss: 0.0589 - acc: 0.9813 - val_loss: 0.1599 - val_acc: 0.9538\n",
      "Epoch 4/10\n",
      "123/123 [==============================] - 390s 3s/step - loss: 0.0685 - acc: 0.9782 - val_loss: 0.1283 - val_acc: 0.9651\n",
      "Epoch 5/10\n",
      "123/123 [==============================] - 391s 3s/step - loss: 0.0685 - acc: 0.9792 - val_loss: 0.2197 - val_acc: 0.9462\n",
      "Epoch 6/10\n",
      "123/123 [==============================] - 391s 3s/step - loss: 0.0730 - acc: 0.9773 - val_loss: 0.2103 - val_acc: 0.9463\n",
      "Epoch 7/10\n",
      "123/123 [==============================] - 392s 3s/step - loss: 0.0634 - acc: 0.9804 - val_loss: 0.1799 - val_acc: 0.9535\n",
      "Epoch 8/10\n",
      "123/123 [==============================] - 389s 3s/step - loss: 0.0511 - acc: 0.9837 - val_loss: 0.1293 - val_acc: 0.9663\n",
      "Epoch 9/10\n",
      "123/123 [==============================] - 391s 3s/step - loss: 0.0694 - acc: 0.9793 - val_loss: 0.1566 - val_acc: 0.9602\n",
      "Epoch 10/10\n",
      "123/123 [==============================] - 391s 3s/step - loss: 0.0909 - acc: 0.9757 - val_loss: 0.1453 - val_acc: 0.9624\n"
     ]
    }
   ],
   "source": [
    "history_2 = VGG16_model.fit(X_train, y_train, batch_size=256, epochs=10, validation_data=(X_val, y_val))\n"
   ]
  },
  {
   "cell_type": "code",
   "execution_count": 46,
   "metadata": {},
   "outputs": [
    {
     "data": {
      "image/png": "[encoded data removed]",
      "text/plain": [
       "<Figure size 640x480 with 1 Axes>"
      ]
     },
     "metadata": {},
     "output_type": "display_data"
    }
   ],
   "source": [
    "epochs = [i for i in range(1, len(h1.history['acc']) + 1)]\n",
    "plt.plot(epochs, history_2.history['loss'], label='train loss')\n",
    "plt.plot(epochs, history_2.history['val_loss'], 'r', label='val loss')\n",
    "plt.title('loss')\n",
    "plt.legend()\n",
    "plt.show()"
   ]
  },
  {
   "cell_type": "code",
   "execution_count": 47,
   "metadata": {},
   "outputs": [
    {
     "data": {
      "image/png": "[encoded data removed]",
      "text/plain": [
       "<Figure size 640x480 with 1 Axes>"
      ]
     },
     "metadata": {},
     "output_type": "display_data"
    }
   ],
   "source": [
    "plt.plot(epochs, history_2.history['acc'], label='train acc')\n",
    "plt.plot(epochs, history_2.history['val_acc'], 'r', label='val acc')\n",
    "plt.title('accuracy')\n",
    "plt.legend()\n",
    "plt.show()"
   ]
  },
  {
   "cell_type": "code",
   "execution_count": 27,
   "metadata": {},
   "outputs": [
    {
     "name": "stdout",
     "output_type": "stream",
     "text": [
      "Epoch 1/10\n",
      "123/123 [==============================] - 391s 3s/step - loss: 0.0135 - acc: 0.9971 - val_loss: 0.0789 - val_acc: 0.9811\n",
      "Epoch 2/10\n",
      "123/123 [==============================] - 391s 3s/step - loss: 0.0029 - acc: 0.9994 - val_loss: 0.0800 - val_acc: 0.9816\n",
      "Epoch 3/10\n",
      "123/123 [==============================] - 392s 3s/step - loss: 0.0015 - acc: 0.9997 - val_loss: 0.0782 - val_acc: 0.9820\n",
      "Epoch 4/10\n",
      "123/123 [==============================] - 393s 3s/step - loss: 9.2790e-04 - acc: 0.9997 - val_loss: 0.0823 - val_acc: 0.9832\n",
      "Epoch 5/10\n",
      "123/123 [==============================] - 391s 3s/step - loss: 0.0018 - acc: 0.9995 - val_loss: 0.0869 - val_acc: 0.9823\n",
      "Epoch 6/10\n",
      "123/123 [==============================] - 392s 3s/step - loss: 8.8947e-04 - acc: 0.9997 - val_loss: 0.0869 - val_acc: 0.9833\n",
      "Epoch 7/10\n",
      "123/123 [==============================] - 391s 3s/step - loss: 0.0026 - acc: 0.9992 - val_loss: 0.1014 - val_acc: 0.9805\n",
      "Epoch 8/10\n",
      "123/123 [==============================] - 389s 3s/step - loss: 0.0015 - acc: 0.9996 - val_loss: 0.0891 - val_acc: 0.9838\n",
      "Epoch 9/10\n",
      "123/123 [==============================] - 386s 3s/step - loss: 2.2628e-04 - acc: 1.0000 - val_loss: 0.0841 - val_acc: 0.9841\n",
      "Epoch 10/10\n",
      "123/123 [==============================] - 387s 3s/step - loss: 1.3561e-04 - acc: 1.0000 - val_loss: 0.0841 - val_acc: 0.9848\n",
      "246/246 [==============================] - 34s 138ms/step - loss: 0.0841 - acc: 0.9848\n"
     ]
    },
    {
     "data": {
      "text/plain": [
       "[0.0840831771492958, 0.9848253130912781]"
      ]
     },
     "execution_count": 27,
     "metadata": {},
     "output_type": "execute_result"
    }
   ],
   "source": [
    "VGG16_model.compile(optimizer=tf.keras.optimizers.Adam(0.0001),\n",
    "                loss='categorical_crossentropy',\n",
    "                metrics=['acc'])\n",
    "VGG16_model.fit(X_train, y_train, batch_size=256, epochs=10, validation_data=(X_val, y_val))\n",
    "VGG16_model.evaluate(X_val, y_val)"
   ]
  },
  {
   "cell_type": "markdown",
   "metadata": {},
   "source": [
    "이번엔 ResNet50을 사용해보도록 하겠습니다.\n",
    "\n"
   ]
  },
  {
   "cell_type": "code",
   "execution_count": 28,
   "metadata": {},
   "outputs": [
    {
     "name": "stdout",
     "output_type": "stream",
     "text": [
      "Downloading data from https://storage.googleapis.com/tensorflow/keras-applications/resnet/resnet50_weights_tf_dim_ordering_tf_kernels_notop.h5\n",
      "94765736/94765736 [==============================] - 9s 0us/step\n",
      "Model: \"resnet50\"\n",
      "__________________________________________________________________________________________________\n",
      " Layer (type)                   Output Shape         Param #     Connected to                     \n",
      "==================================================================================================\n",
      " input_4 (InputLayer)           [(None, 32, 32, 3)]  0           []                               \n",
      "                                                                                                  \n",
      " conv1_pad (ZeroPadding2D)      (None, 38, 38, 3)    0           ['input_4[0][0]']                \n",
      "                                                                                                  \n",
      " conv1_conv (Conv2D)            (None, 16, 16, 64)   9472        ['conv1_pad[0][0]']              \n",
      "                                                                                                  \n",
      " conv1_bn (BatchNormalization)  (None, 16, 16, 64)   256         ['conv1_conv[0][0]']             \n",
      "                                                                                                  \n",
      " conv1_relu (Activation)        (None, 16, 16, 64)   0           ['conv1_bn[0][0]']               \n",
      "                                                                                                  \n",
      " pool1_pad (ZeroPadding2D)      (None, 18, 18, 64)   0           ['conv1_relu[0][0]']             \n",
      "                                                                                                  \n",
      " pool1_pool (MaxPooling2D)      (None, 8, 8, 64)     0           ['pool1_pad[0][0]']              \n",
      "                                                                                                  \n",
      " conv2_block1_1_conv (Conv2D)   (None, 8, 8, 64)     4160        ['pool1_pool[0][0]']             \n",
      "                                                                                                  \n",
      " conv2_block1_1_bn (BatchNormal  (None, 8, 8, 64)    256         ['conv2_block1_1_conv[0][0]']    \n",
      " ization)                                                                                         \n",
      "                                                                                                  \n",
      " conv2_block1_1_relu (Activatio  (None, 8, 8, 64)    0           ['conv2_block1_1_bn[0][0]']      \n",
      " n)                                                                                               \n",
      "                                                                                                  \n",
      " conv2_block1_2_conv (Conv2D)   (None, 8, 8, 64)     36928       ['conv2_block1_1_relu[0][0]']    \n",
      "                                                                                                  \n",
      " conv2_block1_2_bn (BatchNormal  (None, 8, 8, 64)    256         ['conv2_block1_2_conv[0][0]']    \n",
      " ization)                                                                                         \n",
      "                                                                                                  \n",
      " conv2_block1_2_relu (Activatio  (None, 8, 8, 64)    0           ['conv2_block1_2_bn[0][0]']      \n",
      " n)                                                                                               \n",
      "                                                                                                  \n",
      " conv2_block1_0_conv (Conv2D)   (None, 8, 8, 256)    16640       ['pool1_pool[0][0]']             \n",
      "                                                                                                  \n",
      " conv2_block1_3_conv (Conv2D)   (None, 8, 8, 256)    16640       ['conv2_block1_2_relu[0][0]']    \n",
      "                                                                                                  \n",
      " conv2_block1_0_bn (BatchNormal  (None, 8, 8, 256)   1024        ['conv2_block1_0_conv[0][0]']    \n",
      " ization)                                                                                         \n",
      "                                                                                                  \n",
      " conv2_block1_3_bn (BatchNormal  (None, 8, 8, 256)   1024        ['conv2_block1_3_conv[0][0]']    \n",
      " ization)                                                                                         \n",
      "                                                                                                  \n",
      " conv2_block1_add (Add)         (None, 8, 8, 256)    0           ['conv2_block1_0_bn[0][0]',      \n",
      "                                                                  'conv2_block1_3_bn[0][0]']      \n",
      "                                                                                                  \n",
      " conv2_block1_out (Activation)  (None, 8, 8, 256)    0           ['conv2_block1_add[0][0]']       \n",
      "                                                                                                  \n",
      " conv2_block2_1_conv (Conv2D)   (None, 8, 8, 64)     16448       ['conv2_block1_out[0][0]']       \n",
      "                                                                                                  \n",
      " conv2_block2_1_bn (BatchNormal  (None, 8, 8, 64)    256         ['conv2_block2_1_conv[0][0]']    \n",
      " ization)                                                                                         \n",
      "                                                                                                  \n",
      " conv2_block2_1_relu (Activatio  (None, 8, 8, 64)    0           ['conv2_block2_1_bn[0][0]']      \n",
      " n)                                                                                               \n",
      "                                                                                                  \n",
      " conv2_block2_2_conv (Conv2D)   (None, 8, 8, 64)     36928       ['conv2_block2_1_relu[0][0]']    \n",
      "                                                                                                  \n",
      " conv2_block2_2_bn (BatchNormal  (None, 8, 8, 64)    256         ['conv2_block2_2_conv[0][0]']    \n",
      " ization)                                                                                         \n",
      "                                                                                                  \n",
      " conv2_block2_2_relu (Activatio  (None, 8, 8, 64)    0           ['conv2_block2_2_bn[0][0]']      \n",
      " n)                                                                                               \n",
      "                                                                                                  \n",
      " conv2_block2_3_conv (Conv2D)   (None, 8, 8, 256)    16640       ['conv2_block2_2_relu[0][0]']    \n",
      "                                                                                                  \n",
      " conv2_block2_3_bn (BatchNormal  (None, 8, 8, 256)   1024        ['conv2_block2_3_conv[0][0]']    \n",
      " ization)                                                                                         \n",
      "                                                                                                  \n",
      " conv2_block2_add (Add)         (None, 8, 8, 256)    0           ['conv2_block1_out[0][0]',       \n",
      "                                                                  'conv2_block2_3_bn[0][0]']      \n",
      "                                                                                                  \n",
      " conv2_block2_out (Activation)  (None, 8, 8, 256)    0           ['conv2_block2_add[0][0]']       \n",
      "                                                                                                  \n",
      " conv2_block3_1_conv (Conv2D)   (None, 8, 8, 64)     16448       ['conv2_block2_out[0][0]']       \n",
      "                                                                                                  \n",
      " conv2_block3_1_bn (BatchNormal  (None, 8, 8, 64)    256         ['conv2_block3_1_conv[0][0]']    \n",
      " ization)                                                                                         \n",
      "                                                                                                  \n",
      " conv2_block3_1_relu (Activatio  (None, 8, 8, 64)    0           ['conv2_block3_1_bn[0][0]']      \n",
      " n)                                                                                               \n",
      "                                                                                                  \n",
      " conv2_block3_2_conv (Conv2D)   (None, 8, 8, 64)     36928       ['conv2_block3_1_relu[0][0]']    \n",
      "                                                                                                  \n",
      " conv2_block3_2_bn (BatchNormal  (None, 8, 8, 64)    256         ['conv2_block3_2_conv[0][0]']    \n",
      " ization)                                                                                         \n",
      "                                                                                                  \n",
      " conv2_block3_2_relu (Activatio  (None, 8, 8, 64)    0           ['conv2_block3_2_bn[0][0]']      \n",
      " n)                                                                                               \n",
      "                                                                                                  \n",
      " conv2_block3_3_conv (Conv2D)   (None, 8, 8, 256)    16640       ['conv2_block3_2_relu[0][0]']    \n",
      "                                                                                                  \n",
      " conv2_block3_3_bn (BatchNormal  (None, 8, 8, 256)   1024        ['conv2_block3_3_conv[0][0]']    \n",
      " ization)                                                                                         \n",
      "                                                                                                  \n",
      " conv2_block3_add (Add)         (None, 8, 8, 256)    0           ['conv2_block2_out[0][0]',       \n",
      "                                                                  'conv2_block3_3_bn[0][0]']      \n",
      "                                                                                                  \n",
      " conv2_block3_out (Activation)  (None, 8, 8, 256)    0           ['conv2_block3_add[0][0]']       \n",
      "                                                                                                  \n",
      " conv3_block1_1_conv (Conv2D)   (None, 4, 4, 128)    32896       ['conv2_block3_out[0][0]']       \n",
      "                                                                                                  \n",
      " conv3_block1_1_bn (BatchNormal  (None, 4, 4, 128)   512         ['conv3_block1_1_conv[0][0]']    \n",
      " ization)                                                                                         \n",
      "                                                                                                  \n",
      " conv3_block1_1_relu (Activatio  (None, 4, 4, 128)   0           ['conv3_block1_1_bn[0][0]']      \n",
      " n)                                                                                               \n",
      "                                                                                                  \n",
      " conv3_block1_2_conv (Conv2D)   (None, 4, 4, 128)    147584      ['conv3_block1_1_relu[0][0]']    \n",
      "                                                                                                  \n",
      " conv3_block1_2_bn (BatchNormal  (None, 4, 4, 128)   512         ['conv3_block1_2_conv[0][0]']    \n",
      " ization)                                                                                         \n",
      "                                                                                                  \n",
      " conv3_block1_2_relu (Activatio  (None, 4, 4, 128)   0           ['conv3_block1_2_bn[0][0]']      \n",
      " n)                                                                                               \n",
      "                                                                                                  \n",
      " conv3_block1_0_conv (Conv2D)   (None, 4, 4, 512)    131584      ['conv2_block3_out[0][0]']       \n",
      "                                                                                                  \n",
      " conv3_block1_3_conv (Conv2D)   (None, 4, 4, 512)    66048       ['conv3_block1_2_relu[0][0]']    \n",
      "                                                                                                  \n",
      " conv3_block1_0_bn (BatchNormal  (None, 4, 4, 512)   2048        ['conv3_block1_0_conv[0][0]']    \n",
      " ization)                                                                                         \n",
      "                                                                                                  \n",
      " conv3_block1_3_bn (BatchNormal  (None, 4, 4, 512)   2048        ['conv3_block1_3_conv[0][0]']    \n",
      " ization)                                                                                         \n",
      "                                                                                                  \n",
      " conv3_block1_add (Add)         (None, 4, 4, 512)    0           ['conv3_block1_0_bn[0][0]',      \n",
      "                                                                  'conv3_block1_3_bn[0][0]']      \n",
      "                                                                                                  \n",
      " conv3_block1_out (Activation)  (None, 4, 4, 512)    0           ['conv3_block1_add[0][0]']       \n",
      "                                                                                                  \n",
      " conv3_block2_1_conv (Conv2D)   (None, 4, 4, 128)    65664       ['conv3_block1_out[0][0]']       \n",
      "                                                                                                  \n",
      " conv3_block2_1_bn (BatchNormal  (None, 4, 4, 128)   512         ['conv3_block2_1_conv[0][0]']    \n",
      " ization)                                                                                         \n",
      "                                                                                                  \n",
      " conv3_block2_1_relu (Activatio  (None, 4, 4, 128)   0           ['conv3_block2_1_bn[0][0]']      \n",
      " n)                                                                                               \n",
      "                                                                                                  \n",
      " conv3_block2_2_conv (Conv2D)   (None, 4, 4, 128)    147584      ['conv3_block2_1_relu[0][0]']    \n",
      "                                                                                                  \n",
      " conv3_block2_2_bn (BatchNormal  (None, 4, 4, 128)   512         ['conv3_block2_2_conv[0][0]']    \n",
      " ization)                                                                                         \n",
      "                                                                                                  \n",
      " conv3_block2_2_relu (Activatio  (None, 4, 4, 128)   0           ['conv3_block2_2_bn[0][0]']      \n",
      " n)                                                                                               \n",
      "                                                                                                  \n",
      " conv3_block2_3_conv (Conv2D)   (None, 4, 4, 512)    66048       ['conv3_block2_2_relu[0][0]']    \n",
      "                                                                                                  \n",
      " conv3_block2_3_bn (BatchNormal  (None, 4, 4, 512)   2048        ['conv3_block2_3_conv[0][0]']    \n",
      " ization)                                                                                         \n",
      "                                                                                                  \n",
      " conv3_block2_add (Add)         (None, 4, 4, 512)    0           ['conv3_block1_out[0][0]',       \n",
      "                                                                  'conv3_block2_3_bn[0][0]']      \n",
      "                                                                                                  \n",
      " conv3_block2_out (Activation)  (None, 4, 4, 512)    0           ['conv3_block2_add[0][0]']       \n",
      "                                                                                                  \n",
      " conv3_block3_1_conv (Conv2D)   (None, 4, 4, 128)    65664       ['conv3_block2_out[0][0]']       \n",
      "                                                                                                  \n",
      " conv3_block3_1_bn (BatchNormal  (None, 4, 4, 128)   512         ['conv3_block3_1_conv[0][0]']    \n",
      " ization)                                                                                         \n",
      "                                                                                                  \n",
      " conv3_block3_1_relu (Activatio  (None, 4, 4, 128)   0           ['conv3_block3_1_bn[0][0]']      \n",
      " n)                                                                                               \n",
      "                                                                                                  \n",
      " conv3_block3_2_conv (Conv2D)   (None, 4, 4, 128)    147584      ['conv3_block3_1_relu[0][0]']    \n",
      "                                                                                                  \n",
      " conv3_block3_2_bn (BatchNormal  (None, 4, 4, 128)   512         ['conv3_block3_2_conv[0][0]']    \n",
      " ization)                                                                                         \n",
      "                                                                                                  \n",
      " conv3_block3_2_relu (Activatio  (None, 4, 4, 128)   0           ['conv3_block3_2_bn[0][0]']      \n",
      " n)                                                                                               \n",
      "                                                                                                  \n",
      " conv3_block3_3_conv (Conv2D)   (None, 4, 4, 512)    66048       ['conv3_block3_2_relu[0][0]']    \n",
      "                                                                                                  \n",
      " conv3_block3_3_bn (BatchNormal  (None, 4, 4, 512)   2048        ['conv3_block3_3_conv[0][0]']    \n",
      " ization)                                                                                         \n",
      "                                                                                                  \n",
      " conv3_block3_add (Add)         (None, 4, 4, 512)    0           ['conv3_block2_out[0][0]',       \n",
      "                                                                  'conv3_block3_3_bn[0][0]']      \n",
      "                                                                                                  \n",
      " conv3_block3_out (Activation)  (None, 4, 4, 512)    0           ['conv3_block3_add[0][0]']       \n",
      "                                                                                                  \n",
      " conv3_block4_1_conv (Conv2D)   (None, 4, 4, 128)    65664       ['conv3_block3_out[0][0]']       \n",
      "                                                                                                  \n",
      " conv3_block4_1_bn (BatchNormal  (None, 4, 4, 128)   512         ['conv3_block4_1_conv[0][0]']    \n",
      " ization)                                                                                         \n",
      "                                                                                                  \n",
      " conv3_block4_1_relu (Activatio  (None, 4, 4, 128)   0           ['conv3_block4_1_bn[0][0]']      \n",
      " n)                                                                                               \n",
      "                                                                                                  \n",
      " conv3_block4_2_conv (Conv2D)   (None, 4, 4, 128)    147584      ['conv3_block4_1_relu[0][0]']    \n",
      "                                                                                                  \n",
      " conv3_block4_2_bn (BatchNormal  (None, 4, 4, 128)   512         ['conv3_block4_2_conv[0][0]']    \n",
      " ization)                                                                                         \n",
      "                                                                                                  \n",
      " conv3_block4_2_relu (Activatio  (None, 4, 4, 128)   0           ['conv3_block4_2_bn[0][0]']      \n",
      " n)                                                                                               \n",
      "                                                                                                  \n",
      " conv3_block4_3_conv (Conv2D)   (None, 4, 4, 512)    66048       ['conv3_block4_2_relu[0][0]']    \n",
      "                                                                                                  \n",
      " conv3_block4_3_bn (BatchNormal  (None, 4, 4, 512)   2048        ['conv3_block4_3_conv[0][0]']    \n",
      " ization)                                                                                         \n",
      "                                                                                                  \n",
      " conv3_block4_add (Add)         (None, 4, 4, 512)    0           ['conv3_block3_out[0][0]',       \n",
      "                                                                  'conv3_block4_3_bn[0][0]']      \n",
      "                                                                                                  \n",
      " conv3_block4_out (Activation)  (None, 4, 4, 512)    0           ['conv3_block4_add[0][0]']       \n",
      "                                                                                                  \n",
      " conv4_block1_1_conv (Conv2D)   (None, 2, 2, 256)    131328      ['conv3_block4_out[0][0]']       \n",
      "                                                                                                  \n",
      " conv4_block1_1_bn (BatchNormal  (None, 2, 2, 256)   1024        ['conv4_block1_1_conv[0][0]']    \n",
      " ization)                                                                                         \n",
      "                                                                                                  \n",
      " conv4_block1_1_relu (Activatio  (None, 2, 2, 256)   0           ['conv4_block1_1_bn[0][0]']      \n",
      " n)                                                                                               \n",
      "                                                                                                  \n",
      " conv4_block1_2_conv (Conv2D)   (None, 2, 2, 256)    590080      ['conv4_block1_1_relu[0][0]']    \n",
      "                                                                                                  \n",
      " conv4_block1_2_bn (BatchNormal  (None, 2, 2, 256)   1024        ['conv4_block1_2_conv[0][0]']    \n",
      " ization)                                                                                         \n",
      "                                                                                                  \n",
      " conv4_block1_2_relu (Activatio  (None, 2, 2, 256)   0           ['conv4_block1_2_bn[0][0]']      \n",
      " n)                                                                                               \n",
      "                                                                                                  \n",
      " conv4_block1_0_conv (Conv2D)   (None, 2, 2, 1024)   525312      ['conv3_block4_out[0][0]']       \n",
      "                                                                                                  \n",
      " conv4_block1_3_conv (Conv2D)   (None, 2, 2, 1024)   263168      ['conv4_block1_2_relu[0][0]']    \n",
      "                                                                                                  \n",
      " conv4_block1_0_bn (BatchNormal  (None, 2, 2, 1024)  4096        ['conv4_block1_0_conv[0][0]']    \n",
      " ization)                                                                                         \n",
      "                                                                                                  \n",
      " conv4_block1_3_bn (BatchNormal  (None, 2, 2, 1024)  4096        ['conv4_block1_3_conv[0][0]']    \n",
      " ization)                                                                                         \n",
      "                                                                                                  \n",
      " conv4_block1_add (Add)         (None, 2, 2, 1024)   0           ['conv4_block1_0_bn[0][0]',      \n",
      "                                                                  'conv4_block1_3_bn[0][0]']      \n",
      "                                                                                                  \n",
      " conv4_block1_out (Activation)  (None, 2, 2, 1024)   0           ['conv4_block1_add[0][0]']       \n",
      "                                                                                                  \n",
      " conv4_block2_1_conv (Conv2D)   (None, 2, 2, 256)    262400      ['conv4_block1_out[0][0]']       \n",
      "                                                                                                  \n",
      " conv4_block2_1_bn (BatchNormal  (None, 2, 2, 256)   1024        ['conv4_block2_1_conv[0][0]']    \n",
      " ization)                                                                                         \n",
      "                                                                                                  \n",
      " conv4_block2_1_relu (Activatio  (None, 2, 2, 256)   0           ['conv4_block2_1_bn[0][0]']      \n",
      " n)                                                                                               \n",
      "                                                                                                  \n",
      " conv4_block2_2_conv (Conv2D)   (None, 2, 2, 256)    590080      ['conv4_block2_1_relu[0][0]']    \n",
      "                                                                                                  \n",
      " conv4_block2_2_bn (BatchNormal  (None, 2, 2, 256)   1024        ['conv4_block2_2_conv[0][0]']    \n",
      " ization)                                                                                         \n",
      "                                                                                                  \n",
      " conv4_block2_2_relu (Activatio  (None, 2, 2, 256)   0           ['conv4_block2_2_bn[0][0]']      \n",
      " n)                                                                                               \n",
      "                                                                                                  \n",
      " conv4_block2_3_conv (Conv2D)   (None, 2, 2, 1024)   263168      ['conv4_block2_2_relu[0][0]']    \n",
      "                                                                                                  \n",
      " conv4_block2_3_bn (BatchNormal  (None, 2, 2, 1024)  4096        ['conv4_block2_3_conv[0][0]']    \n",
      " ization)                                                                                         \n",
      "                                                                                                  \n",
      " conv4_block2_add (Add)         (None, 2, 2, 1024)   0           ['conv4_block1_out[0][0]',       \n",
      "                                                                  'conv4_block2_3_bn[0][0]']      \n",
      "                                                                                                  \n",
      " conv4_block2_out (Activation)  (None, 2, 2, 1024)   0           ['conv4_block2_add[0][0]']       \n",
      "                                                                                                  \n",
      " conv4_block3_1_conv (Conv2D)   (None, 2, 2, 256)    262400      ['conv4_block2_out[0][0]']       \n",
      "                                                                                                  \n",
      " conv4_block3_1_bn (BatchNormal  (None, 2, 2, 256)   1024        ['conv4_block3_1_conv[0][0]']    \n",
      " ization)                                                                                         \n",
      "                                                                                                  \n",
      " conv4_block3_1_relu (Activatio  (None, 2, 2, 256)   0           ['conv4_block3_1_bn[0][0]']      \n",
      " n)                                                                                               \n",
      "                                                                                                  \n",
      " conv4_block3_2_conv (Conv2D)   (None, 2, 2, 256)    590080      ['conv4_block3_1_relu[0][0]']    \n",
      "                                                                                                  \n",
      " conv4_block3_2_bn (BatchNormal  (None, 2, 2, 256)   1024        ['conv4_block3_2_conv[0][0]']    \n",
      " ization)                                                                                         \n",
      "                                                                                                  \n",
      " conv4_block3_2_relu (Activatio  (None, 2, 2, 256)   0           ['conv4_block3_2_bn[0][0]']      \n",
      " n)                                                                                               \n",
      "                                                                                                  \n",
      " conv4_block3_3_conv (Conv2D)   (None, 2, 2, 1024)   263168      ['conv4_block3_2_relu[0][0]']    \n",
      "                                                                                                  \n",
      " conv4_block3_3_bn (BatchNormal  (None, 2, 2, 1024)  4096        ['conv4_block3_3_conv[0][0]']    \n",
      " ization)                                                                                         \n",
      "                                                                                                  \n",
      " conv4_block3_add (Add)         (None, 2, 2, 1024)   0           ['conv4_block2_out[0][0]',       \n",
      "                                                                  'conv4_block3_3_bn[0][0]']      \n",
      "                                                                                                  \n",
      " conv4_block3_out (Activation)  (None, 2, 2, 1024)   0           ['conv4_block3_add[0][0]']       \n",
      "                                                                                                  \n",
      " conv4_block4_1_conv (Conv2D)   (None, 2, 2, 256)    262400      ['conv4_block3_out[0][0]']       \n",
      "                                                                                                  \n",
      " conv4_block4_1_bn (BatchNormal  (None, 2, 2, 256)   1024        ['conv4_block4_1_conv[0][0]']    \n",
      " ization)                                                                                         \n",
      "                                                                                                  \n",
      " conv4_block4_1_relu (Activatio  (None, 2, 2, 256)   0           ['conv4_block4_1_bn[0][0]']      \n",
      " n)                                                                                               \n",
      "                                                                                                  \n",
      " conv4_block4_2_conv (Conv2D)   (None, 2, 2, 256)    590080      ['conv4_block4_1_relu[0][0]']    \n",
      "                                                                                                  \n",
      " conv4_block4_2_bn (BatchNormal  (None, 2, 2, 256)   1024        ['conv4_block4_2_conv[0][0]']    \n",
      " ization)                                                                                         \n",
      "                                                                                                  \n",
      " conv4_block4_2_relu (Activatio  (None, 2, 2, 256)   0           ['conv4_block4_2_bn[0][0]']      \n",
      " n)                                                                                               \n",
      "                                                                                                  \n",
      " conv4_block4_3_conv (Conv2D)   (None, 2, 2, 1024)   263168      ['conv4_block4_2_relu[0][0]']    \n",
      "                                                                                                  \n",
      " conv4_block4_3_bn (BatchNormal  (None, 2, 2, 1024)  4096        ['conv4_block4_3_conv[0][0]']    \n",
      " ization)                                                                                         \n",
      "                                                                                                  \n",
      " conv4_block4_add (Add)         (None, 2, 2, 1024)   0           ['conv4_block3_out[0][0]',       \n",
      "                                                                  'conv4_block4_3_bn[0][0]']      \n",
      "                                                                                                  \n",
      " conv4_block4_out (Activation)  (None, 2, 2, 1024)   0           ['conv4_block4_add[0][0]']       \n",
      "                                                                                                  \n",
      " conv4_block5_1_conv (Conv2D)   (None, 2, 2, 256)    262400      ['conv4_block4_out[0][0]']       \n",
      "                                                                                                  \n",
      " conv4_block5_1_bn (BatchNormal  (None, 2, 2, 256)   1024        ['conv4_block5_1_conv[0][0]']    \n",
      " ization)                                                                                         \n",
      "                                                                                                  \n",
      " conv4_block5_1_relu (Activatio  (None, 2, 2, 256)   0           ['conv4_block5_1_bn[0][0]']      \n",
      " n)                                                                                               \n",
      "                                                                                                  \n",
      " conv4_block5_2_conv (Conv2D)   (None, 2, 2, 256)    590080      ['conv4_block5_1_relu[0][0]']    \n",
      "                                                                                                  \n",
      " conv4_block5_2_bn (BatchNormal  (None, 2, 2, 256)   1024        ['conv4_block5_2_conv[0][0]']    \n",
      " ization)                                                                                         \n",
      "                                                                                                  \n",
      " conv4_block5_2_relu (Activatio  (None, 2, 2, 256)   0           ['conv4_block5_2_bn[0][0]']      \n",
      " n)                                                                                               \n",
      "                                                                                                  \n",
      " conv4_block5_3_conv (Conv2D)   (None, 2, 2, 1024)   263168      ['conv4_block5_2_relu[0][0]']    \n",
      "                                                                                                  \n",
      " conv4_block5_3_bn (BatchNormal  (None, 2, 2, 1024)  4096        ['conv4_block5_3_conv[0][0]']    \n",
      " ization)                                                                                         \n",
      "                                                                                                  \n",
      " conv4_block5_add (Add)         (None, 2, 2, 1024)   0           ['conv4_block4_out[0][0]',       \n",
      "                                                                  'conv4_block5_3_bn[0][0]']      \n",
      "                                                                                                  \n",
      " conv4_block5_out (Activation)  (None, 2, 2, 1024)   0           ['conv4_block5_add[0][0]']       \n",
      "                                                                                                  \n",
      " conv4_block6_1_conv (Conv2D)   (None, 2, 2, 256)    262400      ['conv4_block5_out[0][0]']       \n",
      "                                                                                                  \n",
      " conv4_block6_1_bn (BatchNormal  (None, 2, 2, 256)   1024        ['conv4_block6_1_conv[0][0]']    \n",
      " ization)                                                                                         \n",
      "                                                                                                  \n",
      " conv4_block6_1_relu (Activatio  (None, 2, 2, 256)   0           ['conv4_block6_1_bn[0][0]']      \n",
      " n)                                                                                               \n",
      "                                                                                                  \n",
      " conv4_block6_2_conv (Conv2D)   (None, 2, 2, 256)    590080      ['conv4_block6_1_relu[0][0]']    \n",
      "                                                                                                  \n",
      " conv4_block6_2_bn (BatchNormal  (None, 2, 2, 256)   1024        ['conv4_block6_2_conv[0][0]']    \n",
      " ization)                                                                                         \n",
      "                                                                                                  \n",
      " conv4_block6_2_relu (Activatio  (None, 2, 2, 256)   0           ['conv4_block6_2_bn[0][0]']      \n",
      " n)                                                                                               \n",
      "                                                                                                  \n",
      " conv4_block6_3_conv (Conv2D)   (None, 2, 2, 1024)   263168      ['conv4_block6_2_relu[0][0]']    \n",
      "                                                                                                  \n",
      " conv4_block6_3_bn (BatchNormal  (None, 2, 2, 1024)  4096        ['conv4_block6_3_conv[0][0]']    \n",
      " ization)                                                                                         \n",
      "                                                                                                  \n",
      " conv4_block6_add (Add)         (None, 2, 2, 1024)   0           ['conv4_block5_out[0][0]',       \n",
      "                                                                  'conv4_block6_3_bn[0][0]']      \n",
      "                                                                                                  \n",
      " conv4_block6_out (Activation)  (None, 2, 2, 1024)   0           ['conv4_block6_add[0][0]']       \n",
      "                                                                                                  \n",
      " conv5_block1_1_conv (Conv2D)   (None, 1, 1, 512)    524800      ['conv4_block6_out[0][0]']       \n",
      "                                                                                                  \n",
      " conv5_block1_1_bn (BatchNormal  (None, 1, 1, 512)   2048        ['conv5_block1_1_conv[0][0]']    \n",
      " ization)                                                                                         \n",
      "                                                                                                  \n",
      " conv5_block1_1_relu (Activatio  (None, 1, 1, 512)   0           ['conv5_block1_1_bn[0][0]']      \n",
      " n)                                                                                               \n",
      "                                                                                                  \n",
      " conv5_block1_2_conv (Conv2D)   (None, 1, 1, 512)    2359808     ['conv5_block1_1_relu[0][0]']    \n",
      "                                                                                                  \n",
      " conv5_block1_2_bn (BatchNormal  (None, 1, 1, 512)   2048        ['conv5_block1_2_conv[0][0]']    \n",
      " ization)                                                                                         \n",
      "                                                                                                  \n",
      " conv5_block1_2_relu (Activatio  (None, 1, 1, 512)   0           ['conv5_block1_2_bn[0][0]']      \n",
      " n)                                                                                               \n",
      "                                                                                                  \n",
      " conv5_block1_0_conv (Conv2D)   (None, 1, 1, 2048)   2099200     ['conv4_block6_out[0][0]']       \n",
      "                                                                                                  \n",
      " conv5_block1_3_conv (Conv2D)   (None, 1, 1, 2048)   1050624     ['conv5_block1_2_relu[0][0]']    \n",
      "                                                                                                  \n",
      " conv5_block1_0_bn (BatchNormal  (None, 1, 1, 2048)  8192        ['conv5_block1_0_conv[0][0]']    \n",
      " ization)                                                                                         \n",
      "                                                                                                  \n",
      " conv5_block1_3_bn (BatchNormal  (None, 1, 1, 2048)  8192        ['conv5_block1_3_conv[0][0]']    \n",
      " ization)                                                                                         \n",
      "                                                                                                  \n",
      " conv5_block1_add (Add)         (None, 1, 1, 2048)   0           ['conv5_block1_0_bn[0][0]',      \n",
      "                                                                  'conv5_block1_3_bn[0][0]']      \n",
      "                                                                                                  \n",
      " conv5_block1_out (Activation)  (None, 1, 1, 2048)   0           ['conv5_block1_add[0][0]']       \n",
      "                                                                                                  \n",
      " conv5_block2_1_conv (Conv2D)   (None, 1, 1, 512)    1049088     ['conv5_block1_out[0][0]']       \n",
      "                                                                                                  \n",
      " conv5_block2_1_bn (BatchNormal  (None, 1, 1, 512)   2048        ['conv5_block2_1_conv[0][0]']    \n",
      " ization)                                                                                         \n",
      "                                                                                                  \n",
      " conv5_block2_1_relu (Activatio  (None, 1, 1, 512)   0           ['conv5_block2_1_bn[0][0]']      \n",
      " n)                                                                                               \n",
      "                                                                                                  \n",
      " conv5_block2_2_conv (Conv2D)   (None, 1, 1, 512)    2359808     ['conv5_block2_1_relu[0][0]']    \n",
      "                                                                                                  \n",
      " conv5_block2_2_bn (BatchNormal  (None, 1, 1, 512)   2048        ['conv5_block2_2_conv[0][0]']    \n",
      " ization)                                                                                         \n",
      "                                                                                                  \n",
      " conv5_block2_2_relu (Activatio  (None, 1, 1, 512)   0           ['conv5_block2_2_bn[0][0]']      \n",
      " n)                                                                                               \n",
      "                                                                                                  \n",
      " conv5_block2_3_conv (Conv2D)   (None, 1, 1, 2048)   1050624     ['conv5_block2_2_relu[0][0]']    \n",
      "                                                                                                  \n",
      " conv5_block2_3_bn (BatchNormal  (None, 1, 1, 2048)  8192        ['conv5_block2_3_conv[0][0]']    \n",
      " ization)                                                                                         \n",
      "                                                                                                  \n",
      " conv5_block2_add (Add)         (None, 1, 1, 2048)   0           ['conv5_block1_out[0][0]',       \n",
      "                                                                  'conv5_block2_3_bn[0][0]']      \n",
      "                                                                                                  \n",
      " conv5_block2_out (Activation)  (None, 1, 1, 2048)   0           ['conv5_block2_add[0][0]']       \n",
      "                                                                                                  \n",
      " conv5_block3_1_conv (Conv2D)   (None, 1, 1, 512)    1049088     ['conv5_block2_out[0][0]']       \n",
      "                                                                                                  \n",
      " conv5_block3_1_bn (BatchNormal  (None, 1, 1, 512)   2048        ['conv5_block3_1_conv[0][0]']    \n",
      " ization)                                                                                         \n",
      "                                                                                                  \n",
      " conv5_block3_1_relu (Activatio  (None, 1, 1, 512)   0           ['conv5_block3_1_bn[0][0]']      \n",
      " n)                                                                                               \n",
      "                                                                                                  \n",
      " conv5_block3_2_conv (Conv2D)   (None, 1, 1, 512)    2359808     ['conv5_block3_1_relu[0][0]']    \n",
      "                                                                                                  \n",
      " conv5_block3_2_bn (BatchNormal  (None, 1, 1, 512)   2048        ['conv5_block3_2_conv[0][0]']    \n",
      " ization)                                                                                         \n",
      "                                                                                                  \n",
      " conv5_block3_2_relu (Activatio  (None, 1, 1, 512)   0           ['conv5_block3_2_bn[0][0]']      \n",
      " n)                                                                                               \n",
      "                                                                                                  \n",
      " conv5_block3_3_conv (Conv2D)   (None, 1, 1, 2048)   1050624     ['conv5_block3_2_relu[0][0]']    \n",
      "                                                                                                  \n",
      " conv5_block3_3_bn (BatchNormal  (None, 1, 1, 2048)  8192        ['conv5_block3_3_conv[0][0]']    \n",
      " ization)                                                                                         \n",
      "                                                                                                  \n",
      " conv5_block3_add (Add)         (None, 1, 1, 2048)   0           ['conv5_block2_out[0][0]',       \n",
      "                                                                  'conv5_block3_3_bn[0][0]']      \n",
      "                                                                                                  \n",
      " conv5_block3_out (Activation)  (None, 1, 1, 2048)   0           ['conv5_block3_add[0][0]']       \n",
      "                                                                                                  \n",
      "==================================================================================================\n",
      "Total params: 23,587,712\n",
      "Trainable params: 23,534,592\n",
      "Non-trainable params: 53,120\n",
      "__________________________________________________________________________________________________\n"
     ]
    }
   ],
   "source": [
    "ResNet_base = tf.keras.applications.ResNet50(include_top=False, weights='imagenet', input_shape=(32,32,3))\n",
    "ResNet_base.summary()"
   ]
  },
  {
   "cell_type": "code",
   "execution_count": 29,
   "metadata": {},
   "outputs": [
    {
     "name": "stdout",
     "output_type": "stream",
     "text": [
      "Model: \"sequential_4\"\n",
      "_________________________________________________________________\n",
      " Layer (type)                Output Shape              Param #   \n",
      "=================================================================\n",
      " flatten_4 (Flatten)         (None, 2048)              0         \n",
      "                                                                 \n",
      " dropout_5 (Dropout)         (None, 2048)              0         \n",
      "                                                                 \n",
      " dense_8 (Dense)             (None, 1024)              2098176   \n",
      "                                                                 \n",
      " dropout_6 (Dropout)         (None, 1024)              0         \n",
      "                                                                 \n",
      " dense_9 (Dense)             (None, 43)                44075     \n",
      "                                                                 \n",
      "=================================================================\n",
      "Total params: 2,142,251\n",
      "Trainable params: 2,142,251\n",
      "Non-trainable params: 0\n",
      "_________________________________________________________________\n",
      "981/981 [==============================] - 80s 81ms/step\n",
      "246/246 [==============================] - 19s 78ms/step\n",
      "246/246 [==============================] - 18s 75ms/step\n",
      "Epoch 1/10\n",
      "123/123 [==============================] - 4s 32ms/step - loss: 3.6752 - acc: 0.0617 - val_loss: 3.4568 - val_acc: 0.0889\n",
      "Epoch 2/10\n",
      "123/123 [==============================] - 4s 29ms/step - loss: 3.4254 - acc: 0.0779 - val_loss: 3.3315 - val_acc: 0.1143\n",
      "Epoch 3/10\n",
      "123/123 [==============================] - 4s 30ms/step - loss: 3.3383 - acc: 0.0995 - val_loss: 3.2174 - val_acc: 0.1293\n",
      "Epoch 4/10\n",
      "123/123 [==============================] - 4s 31ms/step - loss: 3.2661 - acc: 0.1136 - val_loss: 3.1212 - val_acc: 0.1516\n",
      "Epoch 5/10\n",
      "123/123 [==============================] - 3s 28ms/step - loss: 3.2059 - acc: 0.1268 - val_loss: 3.0553 - val_acc: 0.1773\n",
      "Epoch 6/10\n",
      "123/123 [==============================] - 3s 28ms/step - loss: 3.1652 - acc: 0.1326 - val_loss: 3.0359 - val_acc: 0.1855\n",
      "Epoch 7/10\n",
      "123/123 [==============================] - 3s 28ms/step - loss: 3.1319 - acc: 0.1443 - val_loss: 2.9795 - val_acc: 0.2017\n",
      "Epoch 8/10\n",
      "123/123 [==============================] - 3s 28ms/step - loss: 3.1061 - acc: 0.1466 - val_loss: 2.9123 - val_acc: 0.1987\n",
      "Epoch 9/10\n",
      "123/123 [==============================] - 4s 29ms/step - loss: 3.0933 - acc: 0.1524 - val_loss: 2.9052 - val_acc: 0.2160\n",
      "Epoch 10/10\n",
      "123/123 [==============================] - 4s 29ms/step - loss: 3.0732 - acc: 0.1536 - val_loss: 2.8964 - val_acc: 0.2036\n"
     ]
    },
    {
     "data": {
      "text/plain": [
       "<keras.callbacks.History at 0x16a2ac07df0>"
      ]
     },
     "execution_count": 29,
     "metadata": {},
     "output_type": "execute_result"
    }
   ],
   "source": [
    "def FC_model2():\n",
    "    tf.random.set_seed(8)\n",
    "    model = tf.keras.models.Sequential([\n",
    "        tf.keras.layers.Flatten(input_shape=(1,1,2048)),\n",
    "        tf.keras.layers.Dropout(0.4),\n",
    "        tf.keras.layers.Dense(1024, activation='relu',\n",
    "                            kernel_initializer=tf.keras.initializers.glorot_uniform()),\n",
    "        tf.keras.layers.Dropout(0.4),\n",
    "        tf.keras.layers.Dense(N_CLASSES, activation='sigmoid',\n",
    "                            kernel_initializer=tf.keras.initializers.glorot_uniform())\n",
    "    ])\n",
    "    \n",
    "    model.compile(optimizer=tf.keras.optimizers.Adam(0.001),\n",
    "                loss='categorical_crossentropy',\n",
    "                metrics=['acc'])\n",
    "    model.summary()\n",
    "    return model\n",
    "\n",
    "m4 = FC_model2()\n",
    "\n",
    "feature_train = ResNet_base.predict(X_train)\n",
    "feature_val = ResNet_base.predict(X_val)\n",
    "feature_test = ResNet_base.predict(X_val)\n",
    "\n",
    "m4.fit(feature_train, y_train, batch_size=256, epochs=10, validation_data=(feature_val, y_val))\n"
   ]
  },
  {
   "cell_type": "code",
   "execution_count": 30,
   "metadata": {},
   "outputs": [
    {
     "name": "stdout",
     "output_type": "stream",
     "text": [
      "Model: \"sequential_5\"\n",
      "_________________________________________________________________\n",
      " Layer (type)                Output Shape              Param #   \n",
      "=================================================================\n",
      " resnet50 (Functional)       (None, 1, 1, 2048)        23587712  \n",
      "                                                                 \n",
      " flatten_5 (Flatten)         (None, 2048)              0         \n",
      "                                                                 \n",
      " dense_10 (Dense)            (None, 1024)              2098176   \n",
      "                                                                 \n",
      " dropout_7 (Dropout)         (None, 1024)              0         \n",
      "                                                                 \n",
      " dense_11 (Dense)            (None, 43)                44075     \n",
      "                                                                 \n",
      "=================================================================\n",
      "Total params: 25,729,963\n",
      "Trainable params: 25,676,843\n",
      "Non-trainable params: 53,120\n",
      "_________________________________________________________________\n",
      "훈련되는 가중치의 수: 44\n"
     ]
    }
   ],
   "source": [
    "tf.random.set_seed(7)\n",
    "ResNet_model = tf.keras.models.Sequential([\n",
    "    ResNet_base,\n",
    "    tf.keras.layers.Flatten(),\n",
    "    tf.keras.layers.Dense(1024, activation='relu',\n",
    "                        kernel_initializer=tf.keras.initializers.glorot_uniform()),\n",
    "    tf.keras.layers.Dropout(0.4),\n",
    "    tf.keras.layers.Dense(N_CLASSES, activation='sigmoid',\n",
    "                        kernel_initializer=tf.keras.initializers.glorot_uniform())\n",
    "])\n",
    "ResNet_model.summary()\n",
    " \n",
    "ResNet_base.trainable = True\n",
    " \n",
    "set_trainable = False\n",
    "for layer in ResNet_base.layers:\n",
    "    if layer.name == 'conv5_block1_1_conv':\n",
    "        set_trainable = True\n",
    "    if set_trainable:\n",
    "        layer.trainable = True\n",
    "    else:\n",
    "        layer.trainable = False\n",
    " \n",
    "print('훈련되는 가중치의 수:', len(ResNet_model.trainable_weights))\n"
   ]
  },
  {
   "cell_type": "code",
   "execution_count": 31,
   "metadata": {},
   "outputs": [
    {
     "name": "stdout",
     "output_type": "stream",
     "text": [
      "Epoch 1/10\n",
      "123/123 [==============================] - 691s 6s/step - loss: 3.1805 - acc: 0.2072 - val_loss: 3.6216 - val_acc: 0.0546\n",
      "Epoch 2/10\n",
      "123/123 [==============================] - 688s 6s/step - loss: 1.8249 - acc: 0.4869 - val_loss: 4.4308 - val_acc: 0.0752\n",
      "Epoch 3/10\n",
      "123/123 [==============================] - 694s 6s/step - loss: 1.0807 - acc: 0.6744 - val_loss: 4.7440 - val_acc: 0.1075\n",
      "Epoch 4/10\n",
      "123/123 [==============================] - 688s 6s/step - loss: 0.7295 - acc: 0.7758 - val_loss: 4.1654 - val_acc: 0.1696\n",
      "Epoch 5/10\n",
      "123/123 [==============================] - 688s 6s/step - loss: 0.5342 - acc: 0.8335 - val_loss: 5.6453 - val_acc: 0.1785\n",
      "Epoch 6/10\n",
      "123/123 [==============================] - 715s 6s/step - loss: 0.4065 - acc: 0.8727 - val_loss: 5.4888 - val_acc: 0.2232\n",
      "Epoch 7/10\n",
      "123/123 [==============================] - 686s 6s/step - loss: 0.3190 - acc: 0.8988 - val_loss: 4.9376 - val_acc: 0.2205\n",
      "Epoch 8/10\n",
      "123/123 [==============================] - 689s 6s/step - loss: 0.2580 - acc: 0.9193 - val_loss: 4.4034 - val_acc: 0.2590\n",
      "Epoch 9/10\n",
      "123/123 [==============================] - 687s 6s/step - loss: 0.2178 - acc: 0.9305 - val_loss: 6.4865 - val_acc: 0.2031\n",
      "Epoch 10/10\n",
      "123/123 [==============================] - 676s 5s/step - loss: 0.1836 - acc: 0.9420 - val_loss: 6.3667 - val_acc: 0.1725\n"
     ]
    }
   ],
   "source": [
    "ResNet_model.compile(optimizer=tf.keras.optimizers.Adam(0.0001),\n",
    "                loss='categorical_crossentropy',\n",
    "                metrics=['acc'])\n",
    "history = ResNet_model.fit(X_train, y_train, batch_size=256, epochs=10, validation_data=(X_val, y_val))\n"
   ]
  },
  {
   "cell_type": "code",
   "execution_count": 32,
   "metadata": {},
   "outputs": [
    {
     "name": "stdout",
     "output_type": "stream",
     "text": [
      "246/246 [==============================] - 17s 71ms/step - loss: 6.3667 - acc: 0.1725\n"
     ]
    },
    {
     "data": {
      "text/plain": [
       "[6.366720199584961, 0.17253251373767853]"
      ]
     },
     "execution_count": 32,
     "metadata": {},
     "output_type": "execute_result"
    }
   ],
   "source": [
    "ResNet_model.evaluate(X_val, y_val)\n"
   ]
  },
  {
   "cell_type": "code",
   "execution_count": null,
   "metadata": {},
   "outputs": [],
   "source": []
  }
 ],
 "metadata": {
  "kernelspec": {
   "display_name": "Python 3.10.2 64-bit",
   "language": "python",
   "name": "python3"
  },
  "language_info": {
   "codemirror_mode": {
    "name": "ipython",
    "version": 3
   },
   "file_extension": ".py",
   "mimetype": "text/x-python",
   "name": "python",
   "nbconvert_exporter": "python",
   "pygments_lexer": "ipython3",
   "version": "3.10.2"
  },
  "orig_nbformat": 4,
  "vscode": {
   "interpreter": {
    "hash": "7094b59f11d42a86b58b0655fe5bf4739edaecb7de79b2ac4e0bbafb0abdcd70"
   }
  }
 },
 "nbformat": 4,
 "nbformat_minor": 2
}
